{
 "cells": [
  {
   "cell_type": "markdown",
   "metadata": {},
   "source": [
    "# Project: Insights from TMDB Movies\n",
    "\n",
    "## Table of Contents\n",
    "<ul>\n",
    "<li><a href=\"#intro\">Introduction</a></li>\n",
    "<li><a href=\"#wrangling\">Data Wrangling</a></li>\n",
    "<li><a href=\"#eda\">Exploratory Data Analysis</a></li>\n",
    "<li><a href=\"#conclusions\">Conclusions</a></li>\n",
    "</ul>"
   ]
  },
  {
   "cell_type": "markdown",
   "metadata": {},
   "source": [
    "<a id='intro'></a>\n",
    "## Introduction\n",
    "\n",
    "The TMDB Movies data set contains films and associated data for more than 10,000 films.  The data contains independent variables (e.g. release date, tagline, director, overview, etc.) and depenent variables (e.g. popularity, revenue_adj, vote_average, etc.).  The data can be used to draw conclusions about the films that were released between 1966 and 2015.\n",
    "\n",
    "A few questions that can be answered with this data are:\n",
    "1. Is there a correlation between the highest rated films and their revenue?\n",
    "2. What genre is the highest grossing?  Most popular?\n",
    "3. Which films are most viewed but lowest rated?  Are there any factors that contribute to this?\n",
    "4. After account for inflation, how has the money grossed by films changed over time?\n",
    "5. What actors are consistently in highly rated films?  Highly grossing?"
   ]
  },
  {
   "cell_type": "markdown",
   "metadata": {},
   "source": [
    "Import packages"
   ]
  },
  {
   "cell_type": "code",
   "execution_count": 1,
   "metadata": {},
   "outputs": [],
   "source": [
    "import pandas as pd\n",
    "import numpy as np\n",
    "import matplotlib.pyplot as plt \n",
    "import seaborn as sns\n",
    "from IPython.display import set_matplotlib_formats\n",
    "set_matplotlib_formats('pdf', 'svg')"
   ]
  },
  {
   "cell_type": "markdown",
   "metadata": {},
   "source": [
    "<a id='wrangling'></a>\n",
    "## Data Wrangling\n",
    "\n",
    "### General Properties"
   ]
  },
  {
   "cell_type": "markdown",
   "metadata": {},
   "source": [
    "Load the dataset and check the shape of the dataframe."
   ]
  },
  {
   "cell_type": "code",
   "execution_count": 2,
   "metadata": {},
   "outputs": [
    {
     "data": {
      "text/plain": [
       "(10866, 21)"
      ]
     },
     "execution_count": 2,
     "metadata": {},
     "output_type": "execute_result"
    }
   ],
   "source": [
    "df = pd.read_csv('tmdb-movies.csv')\n",
    "df.shape"
   ]
  },
  {
   "cell_type": "markdown",
   "metadata": {},
   "source": [
    "Check the columns in the data set and the data integrity of each field."
   ]
  },
  {
   "cell_type": "code",
   "execution_count": 3,
   "metadata": {},
   "outputs": [
    {
     "name": "stdout",
     "output_type": "stream",
     "text": [
      "<class 'pandas.core.frame.DataFrame'>\n",
      "RangeIndex: 10866 entries, 0 to 10865\n",
      "Data columns (total 21 columns):\n",
      "id                      10866 non-null int64\n",
      "imdb_id                 10856 non-null object\n",
      "popularity              10866 non-null float64\n",
      "budget                  10866 non-null int64\n",
      "revenue                 10866 non-null int64\n",
      "original_title          10866 non-null object\n",
      "cast                    10790 non-null object\n",
      "homepage                2936 non-null object\n",
      "director                10822 non-null object\n",
      "tagline                 8042 non-null object\n",
      "keywords                9373 non-null object\n",
      "overview                10862 non-null object\n",
      "runtime                 10866 non-null int64\n",
      "genres                  10843 non-null object\n",
      "production_companies    9836 non-null object\n",
      "release_date            10866 non-null object\n",
      "vote_count              10866 non-null int64\n",
      "vote_average            10866 non-null float64\n",
      "release_year            10866 non-null int64\n",
      "budget_adj              10866 non-null float64\n",
      "revenue_adj             10866 non-null float64\n",
      "dtypes: float64(4), int64(6), object(11)\n",
      "memory usage: 1.7+ MB\n"
     ]
    }
   ],
   "source": [
    "df.info()"
   ]
  },
  {
   "cell_type": "markdown",
   "metadata": {},
   "source": [
    "First, remove the columns that won't be useful for this analysis:\n",
    "- id\n",
    "- imdb_id\n",
    "- homepage\n",
    "- tagline\n",
    "- keywords\n",
    "- overview\n",
    "- production_companies\n",
    "\n",
    "\n",
    "While there is generally 10,866 records, some issues exist:\n",
    "1. imdb_id is missing 10 values (_can likely drop record_)\n",
    "2. cast is missing ~100 values\n",
    "3. homepage only has 2,936 values (_can likely drop this entire field_)\n",
    "4. director is missing a trivial amount of records (_have a look at these and potentially drop records)\n",
    "5. tagline is missing over 2,000 values (_can likely drop this field_)\n",
    "6. keywords is missing ~1,000 values (_could be OK as this field is interesting but blanks may not provide or detract value_)\n",
    "7. overview is missing 4 values\n",
    "8. genres is missing 23 values\n",
    "9. production_companies is missing ~1,000 values (_look into this, if columns is dropped, need to re-evaluate dataset questions_)"
   ]
  },
  {
   "cell_type": "markdown",
   "metadata": {},
   "source": [
    "### Data Cleaning"
   ]
  },
  {
   "cell_type": "markdown",
   "metadata": {},
   "source": [
    "Remove the columns that are unnecessary for this analysis"
   ]
  },
  {
   "cell_type": "code",
   "execution_count": 4,
   "metadata": {},
   "outputs": [],
   "source": [
    "df.drop(['id','imdb_id','homepage','tagline','keywords','overview','production_companies'], axis=1,inplace=True);"
   ]
  },
  {
   "cell_type": "markdown",
   "metadata": {},
   "source": [
    "__1. Drop 10 rows where imdb_id is missing__"
   ]
  },
  {
   "cell_type": "markdown",
   "metadata": {
    "collapsed": true
   },
   "source": [
    "No longer needed since we dropped the column imdb_id as being unnecessary for this analysis"
   ]
  },
  {
   "cell_type": "markdown",
   "metadata": {},
   "source": [
    "__2. cast is missing ~100 values__"
   ]
  },
  {
   "cell_type": "code",
   "execution_count": 5,
   "metadata": {},
   "outputs": [
    {
     "data": {
      "text/html": [
       "<div>\n",
       "<style>\n",
       "    .dataframe thead tr:only-child th {\n",
       "        text-align: right;\n",
       "    }\n",
       "\n",
       "    .dataframe thead th {\n",
       "        text-align: left;\n",
       "    }\n",
       "\n",
       "    .dataframe tbody tr th {\n",
       "        vertical-align: top;\n",
       "    }\n",
       "</style>\n",
       "<table border=\"1\" class=\"dataframe\">\n",
       "  <thead>\n",
       "    <tr style=\"text-align: right;\">\n",
       "      <th></th>\n",
       "      <th>popularity</th>\n",
       "      <th>budget</th>\n",
       "      <th>revenue</th>\n",
       "      <th>original_title</th>\n",
       "      <th>cast</th>\n",
       "      <th>director</th>\n",
       "      <th>runtime</th>\n",
       "      <th>genres</th>\n",
       "      <th>release_date</th>\n",
       "      <th>vote_count</th>\n",
       "      <th>vote_average</th>\n",
       "      <th>release_year</th>\n",
       "      <th>budget_adj</th>\n",
       "      <th>revenue_adj</th>\n",
       "    </tr>\n",
       "  </thead>\n",
       "  <tbody>\n",
       "    <tr>\n",
       "      <th>371</th>\n",
       "      <td>0.422901</td>\n",
       "      <td>0</td>\n",
       "      <td>0</td>\n",
       "      <td>Sanjay's Super Team</td>\n",
       "      <td>NaN</td>\n",
       "      <td>Sanjay Patel</td>\n",
       "      <td>7</td>\n",
       "      <td>Animation</td>\n",
       "      <td>11/25/15</td>\n",
       "      <td>47</td>\n",
       "      <td>6.9</td>\n",
       "      <td>2015</td>\n",
       "      <td>0.0</td>\n",
       "      <td>0.0</td>\n",
       "    </tr>\n",
       "    <tr>\n",
       "      <th>441</th>\n",
       "      <td>0.220751</td>\n",
       "      <td>0</td>\n",
       "      <td>0</td>\n",
       "      <td>Winter on Fire: Ukraine's Fight for Freedom</td>\n",
       "      <td>NaN</td>\n",
       "      <td>Evgeny Afineevsky</td>\n",
       "      <td>98</td>\n",
       "      <td>Documentary</td>\n",
       "      <td>10/9/15</td>\n",
       "      <td>37</td>\n",
       "      <td>8.2</td>\n",
       "      <td>2015</td>\n",
       "      <td>0.0</td>\n",
       "      <td>0.0</td>\n",
       "    </tr>\n",
       "    <tr>\n",
       "      <th>465</th>\n",
       "      <td>0.201696</td>\n",
       "      <td>0</td>\n",
       "      <td>0</td>\n",
       "      <td>Bitter Lake</td>\n",
       "      <td>NaN</td>\n",
       "      <td>Adam Curtis</td>\n",
       "      <td>135</td>\n",
       "      <td>Documentary</td>\n",
       "      <td>1/24/15</td>\n",
       "      <td>19</td>\n",
       "      <td>7.8</td>\n",
       "      <td>2015</td>\n",
       "      <td>0.0</td>\n",
       "      <td>0.0</td>\n",
       "    </tr>\n",
       "    <tr>\n",
       "      <th>536</th>\n",
       "      <td>0.122543</td>\n",
       "      <td>0</td>\n",
       "      <td>0</td>\n",
       "      <td>A Faster Horse</td>\n",
       "      <td>NaN</td>\n",
       "      <td>David Gelb</td>\n",
       "      <td>90</td>\n",
       "      <td>Documentary</td>\n",
       "      <td>10/8/15</td>\n",
       "      <td>12</td>\n",
       "      <td>8.0</td>\n",
       "      <td>2015</td>\n",
       "      <td>0.0</td>\n",
       "      <td>0.0</td>\n",
       "    </tr>\n",
       "    <tr>\n",
       "      <th>538</th>\n",
       "      <td>0.114264</td>\n",
       "      <td>0</td>\n",
       "      <td>0</td>\n",
       "      <td>The Mask You Live In</td>\n",
       "      <td>NaN</td>\n",
       "      <td>Jennifer Siebel Newsom</td>\n",
       "      <td>88</td>\n",
       "      <td>Documentary</td>\n",
       "      <td>1/1/15</td>\n",
       "      <td>11</td>\n",
       "      <td>8.9</td>\n",
       "      <td>2015</td>\n",
       "      <td>0.0</td>\n",
       "      <td>0.0</td>\n",
       "    </tr>\n",
       "  </tbody>\n",
       "</table>\n",
       "</div>"
      ],
      "text/plain": [
       "     popularity  budget  revenue                               original_title  \\\n",
       "371    0.422901       0        0                          Sanjay's Super Team   \n",
       "441    0.220751       0        0  Winter on Fire: Ukraine's Fight for Freedom   \n",
       "465    0.201696       0        0                                  Bitter Lake   \n",
       "536    0.122543       0        0                               A Faster Horse   \n",
       "538    0.114264       0        0                         The Mask You Live In   \n",
       "\n",
       "    cast                director  runtime       genres release_date  \\\n",
       "371  NaN            Sanjay Patel        7    Animation     11/25/15   \n",
       "441  NaN       Evgeny Afineevsky       98  Documentary      10/9/15   \n",
       "465  NaN             Adam Curtis      135  Documentary      1/24/15   \n",
       "536  NaN              David Gelb       90  Documentary      10/8/15   \n",
       "538  NaN  Jennifer Siebel Newsom       88  Documentary       1/1/15   \n",
       "\n",
       "     vote_count  vote_average  release_year  budget_adj  revenue_adj  \n",
       "371          47           6.9          2015         0.0          0.0  \n",
       "441          37           8.2          2015         0.0          0.0  \n",
       "465          19           7.8          2015         0.0          0.0  \n",
       "536          12           8.0          2015         0.0          0.0  \n",
       "538          11           8.9          2015         0.0          0.0  "
      ]
     },
     "execution_count": 5,
     "metadata": {},
     "output_type": "execute_result"
    }
   ],
   "source": [
    "df[df['cast'].isnull()].head()"
   ]
  },
  {
   "cell_type": "markdown",
   "metadata": {},
   "source": [
    "It's apparent that most of the null movies are Documentary or Animated, so this could be a legitimate value.  Let's look further at all Documentary to see what % have null cast:"
   ]
  },
  {
   "cell_type": "code",
   "execution_count": 6,
   "metadata": {},
   "outputs": [
    {
     "data": {
      "text/plain": [
       "520"
      ]
     },
     "execution_count": 6,
     "metadata": {},
     "output_type": "execute_result"
    }
   ],
   "source": [
    "df[df['genres'].str.contains(\"Documentary\", na=False)].popularity.count()"
   ]
  },
  {
   "cell_type": "markdown",
   "metadata": {},
   "source": [
    "520 films have genre containing Documentary"
   ]
  },
  {
   "cell_type": "code",
   "execution_count": 7,
   "metadata": {},
   "outputs": [],
   "source": [
    "null_cast = pd.DataFrame(df[df['cast'].isnull()])\n",
    "null_cast_doc = null_cast[null_cast['genres'].str.contains(\"Documentary\", na=False)];"
   ]
  },
  {
   "cell_type": "code",
   "execution_count": 8,
   "metadata": {},
   "outputs": [
    {
     "name": "stdout",
     "output_type": "stream",
     "text": [
      "<class 'pandas.core.frame.DataFrame'>\n",
      "Int64Index: 42 entries, 441 to 9564\n",
      "Data columns (total 14 columns):\n",
      "popularity        42 non-null float64\n",
      "budget            42 non-null int64\n",
      "revenue           42 non-null int64\n",
      "original_title    42 non-null object\n",
      "cast              0 non-null object\n",
      "director          39 non-null object\n",
      "runtime           42 non-null int64\n",
      "genres            42 non-null object\n",
      "release_date      42 non-null object\n",
      "vote_count        42 non-null int64\n",
      "vote_average      42 non-null float64\n",
      "release_year      42 non-null int64\n",
      "budget_adj        42 non-null float64\n",
      "revenue_adj       42 non-null float64\n",
      "dtypes: float64(4), int64(5), object(5)\n",
      "memory usage: 4.9+ KB\n"
     ]
    }
   ],
   "source": [
    "null_cast_doc.info();"
   ]
  },
  {
   "cell_type": "markdown",
   "metadata": {},
   "source": [
    "Of the 519 Documentaries, 42 have no cast, which is 8%.  Since this is a significant number, null values for Cast will be acceptable for this analysis, given that Documentaries and animated films may have no actors."
   ]
  },
  {
   "cell_type": "markdown",
   "metadata": {},
   "source": [
    "__3. homepage only has 2,936 values__\n",
    ">This field was dropped as it was deemed unnecessary for this analysis."
   ]
  },
  {
   "cell_type": "markdown",
   "metadata": {},
   "source": [
    "__4. director is missing a trivial amount of records (_have a look at these and potentially drop records_)__"
   ]
  },
  {
   "cell_type": "code",
   "execution_count": 9,
   "metadata": {},
   "outputs": [
    {
     "data": {
      "text/plain": [
       "44"
      ]
     },
     "execution_count": 9,
     "metadata": {},
     "output_type": "execute_result"
    }
   ],
   "source": [
    "df[df['director'].isnull()].popularity.count()"
   ]
  },
  {
   "cell_type": "markdown",
   "metadata": {},
   "source": [
    "It's worth dropping these records as 44 out of 10,000 is trivial to be able to have consistent data"
   ]
  },
  {
   "cell_type": "code",
   "execution_count": 10,
   "metadata": {},
   "outputs": [],
   "source": [
    "df.dropna(subset = ['director'], inplace=True);"
   ]
  },
  {
   "cell_type": "markdown",
   "metadata": {},
   "source": [
    "__5. tagline is missing over 2,000 values (_can likely drop this field_)__\n",
    "\n",
    "__6. keywords is missing ~1,000 values (_could be OK as this field is interesting but blanks may not provide or detract value_)__\n",
    "\n",
    "__7. overview is missing 4 values__\n",
    "\n",
    "All of these columns were dropped since they were deemed unnecessary for this analysis"
   ]
  },
  {
   "cell_type": "markdown",
   "metadata": {},
   "source": [
    "__8. genres is missing 23 values__"
   ]
  },
  {
   "cell_type": "code",
   "execution_count": 11,
   "metadata": {},
   "outputs": [],
   "source": [
    "df.dropna(subset = ['genres'], inplace=True);"
   ]
  },
  {
   "cell_type": "markdown",
   "metadata": {},
   "source": [
    "__9. production_companies is missing ~1,000 values (_look into this, if columns is dropped, need to re-evaluate dataset questions_)__\n",
    "\n",
    "This column was dropped since it was deemed unnecessary for this analysis"
   ]
  },
  {
   "cell_type": "code",
   "execution_count": 12,
   "metadata": {},
   "outputs": [
    {
     "name": "stdout",
     "output_type": "stream",
     "text": [
      "<class 'pandas.core.frame.DataFrame'>\n",
      "Int64Index: 10801 entries, 0 to 10865\n",
      "Data columns (total 14 columns):\n",
      "popularity        10801 non-null float64\n",
      "budget            10801 non-null int64\n",
      "revenue           10801 non-null int64\n",
      "original_title    10801 non-null object\n",
      "cast              10732 non-null object\n",
      "director          10801 non-null object\n",
      "runtime           10801 non-null int64\n",
      "genres            10801 non-null object\n",
      "release_date      10801 non-null object\n",
      "vote_count        10801 non-null int64\n",
      "vote_average      10801 non-null float64\n",
      "release_year      10801 non-null int64\n",
      "budget_adj        10801 non-null float64\n",
      "revenue_adj       10801 non-null float64\n",
      "dtypes: float64(4), int64(5), object(5)\n",
      "memory usage: 1.2+ MB\n"
     ]
    }
   ],
   "source": [
    "df.info();"
   ]
  },
  {
   "cell_type": "markdown",
   "metadata": {},
   "source": [
    "There are now __10,801__ clean records of data, with the exception of cast having 69 missing values, which are expected"
   ]
  },
  {
   "cell_type": "markdown",
   "metadata": {},
   "source": [
    "After reviewing histograms, it's apparent that there are 5,952 cases where revenue was not recorded."
   ]
  },
  {
   "cell_type": "code",
   "execution_count": 13,
   "metadata": {},
   "outputs": [
    {
     "data": {
      "text/plain": [
       "5952"
      ]
     },
     "execution_count": 13,
     "metadata": {},
     "output_type": "execute_result"
    },
    {
     "data": {
      "image/png": "[encoded data removed]",
      "text/plain": [
       "<matplotlib.figure.Figure at 0x7f1365bc95c0>"
      ]
     },
     "metadata": {
      "needs_background": "light"
     },
     "output_type": "display_data"
    }
   ],
   "source": [
    "rev_zero = df[df['revenue_adj']==0]\n",
    "rev_zero['release_year'].hist(figsize=(8,8))\n",
    "rev_zero.popularity.count()"
   ]
  },
  {
   "cell_type": "markdown",
   "metadata": {},
   "source": [
    "Seeing that this is half of the dataset sample size, and range of dates with no recorded revenue are mostly recent but span the entire dataset, removing this data will significantly affect the datatset.  However, given most of the dataset questions incorporate revenue, it will be best to keep this value where it exists.  After checking any correlation between revenue and budget (none exists), there is no simple way to extrapolate this data so these rows will simply be removed."
   ]
  },
  {
   "cell_type": "code",
   "execution_count": 14,
   "metadata": {},
   "outputs": [],
   "source": [
    "df = df[df['revenue_adj']!=0];"
   ]
  },
  {
   "cell_type": "markdown",
   "metadata": {},
   "source": [
    "Similarly for budget"
   ]
  },
  {
   "cell_type": "code",
   "execution_count": 15,
   "metadata": {},
   "outputs": [],
   "source": [
    "df = df[df['budget']!=0];"
   ]
  },
  {
   "cell_type": "code",
   "execution_count": 16,
   "metadata": {},
   "outputs": [
    {
     "data": {
      "text/plain": [
       "25"
      ]
     },
     "execution_count": 16,
     "metadata": {},
     "output_type": "execute_result"
    }
   ],
   "source": [
    "df[df['budget']<10000].popularity.count()"
   ]
  },
  {
   "cell_type": "markdown",
   "metadata": {},
   "source": [
    "Given there are 25 movies with a budget of less than 10,000, these will be removed as well since that's an unrealistic budget for a movie and will skew our results."
   ]
  },
  {
   "cell_type": "code",
   "execution_count": 17,
   "metadata": {},
   "outputs": [],
   "source": [
    "df=df[df['budget']>10000];"
   ]
  },
  {
   "cell_type": "code",
   "execution_count": 18,
   "metadata": {},
   "outputs": [
    {
     "name": "stdout",
     "output_type": "stream",
     "text": [
      "<class 'pandas.core.frame.DataFrame'>\n",
      "Int64Index: 3828 entries, 0 to 10848\n",
      "Data columns (total 14 columns):\n",
      "popularity        3828 non-null float64\n",
      "budget            3828 non-null int64\n",
      "revenue           3828 non-null int64\n",
      "original_title    3828 non-null object\n",
      "cast              3825 non-null object\n",
      "director          3828 non-null object\n",
      "runtime           3828 non-null int64\n",
      "genres            3828 non-null object\n",
      "release_date      3828 non-null object\n",
      "vote_count        3828 non-null int64\n",
      "vote_average      3828 non-null float64\n",
      "release_year      3828 non-null int64\n",
      "budget_adj        3828 non-null float64\n",
      "revenue_adj       3828 non-null float64\n",
      "dtypes: float64(4), int64(5), object(5)\n",
      "memory usage: 448.6+ KB\n"
     ]
    }
   ],
   "source": [
    "df.info()"
   ]
  },
  {
   "cell_type": "markdown",
   "metadata": {},
   "source": [
    "There are now __3,828__ clean records of data, with the exception of cast having 3 missing values, which are expected"
   ]
  },
  {
   "cell_type": "markdown",
   "metadata": {},
   "source": [
    "<a id='eda'></a>\n",
    "## Exploratory Data Analysis"
   ]
  },
  {
   "cell_type": "markdown",
   "metadata": {},
   "source": [
    "Let's by looking at the histograms of each column in our clean data:"
   ]
  },
  {
   "cell_type": "code",
   "execution_count": 19,
   "metadata": {},
   "outputs": [
    {
     "data": {
      "image/png": "[encoded data removed]",
      "text/plain": [
       "<matplotlib.figure.Figure at 0x7f13649c3d30>"
      ]
     },
     "metadata": {
      "needs_background": "light"
     },
     "output_type": "display_data"
    }
   ],
   "source": [
    "df.hist(figsize=(8,8));"
   ]
  },
  {
   "cell_type": "code",
   "execution_count": 20,
   "metadata": {},
   "outputs": [
    {
     "data": {
      "text/html": [
       "<div>\n",
       "<style>\n",
       "    .dataframe thead tr:only-child th {\n",
       "        text-align: right;\n",
       "    }\n",
       "\n",
       "    .dataframe thead th {\n",
       "        text-align: left;\n",
       "    }\n",
       "\n",
       "    .dataframe tbody tr th {\n",
       "        vertical-align: top;\n",
       "    }\n",
       "</style>\n",
       "<table border=\"1\" class=\"dataframe\">\n",
       "  <thead>\n",
       "    <tr style=\"text-align: right;\">\n",
       "      <th></th>\n",
       "      <th>popularity</th>\n",
       "      <th>budget</th>\n",
       "      <th>revenue</th>\n",
       "      <th>runtime</th>\n",
       "      <th>vote_count</th>\n",
       "      <th>vote_average</th>\n",
       "      <th>release_year</th>\n",
       "      <th>budget_adj</th>\n",
       "      <th>revenue_adj</th>\n",
       "    </tr>\n",
       "  </thead>\n",
       "  <tbody>\n",
       "    <tr>\n",
       "      <th>count</th>\n",
       "      <td>3828.000000</td>\n",
       "      <td>3.828000e+03</td>\n",
       "      <td>3.828000e+03</td>\n",
       "      <td>3828.000000</td>\n",
       "      <td>3828.000000</td>\n",
       "      <td>3828.000000</td>\n",
       "      <td>3828.000000</td>\n",
       "      <td>3.828000e+03</td>\n",
       "      <td>3.828000e+03</td>\n",
       "    </tr>\n",
       "    <tr>\n",
       "      <th>mean</th>\n",
       "      <td>1.196928</td>\n",
       "      <td>3.746312e+07</td>\n",
       "      <td>1.083809e+08</td>\n",
       "      <td>109.255486</td>\n",
       "      <td>530.720742</td>\n",
       "      <td>6.168913</td>\n",
       "      <td>2001.275601</td>\n",
       "      <td>4.454719e+07</td>\n",
       "      <td>1.379222e+08</td>\n",
       "    </tr>\n",
       "    <tr>\n",
       "      <th>std</th>\n",
       "      <td>1.478507</td>\n",
       "      <td>4.223619e+07</td>\n",
       "      <td>1.769268e+08</td>\n",
       "      <td>19.856581</td>\n",
       "      <td>882.114133</td>\n",
       "      <td>0.795069</td>\n",
       "      <td>11.281562</td>\n",
       "      <td>4.480798e+07</td>\n",
       "      <td>2.165623e+08</td>\n",
       "    </tr>\n",
       "    <tr>\n",
       "      <th>min</th>\n",
       "      <td>0.001117</td>\n",
       "      <td>1.200000e+04</td>\n",
       "      <td>2.000000e+00</td>\n",
       "      <td>26.000000</td>\n",
       "      <td>10.000000</td>\n",
       "      <td>2.200000</td>\n",
       "      <td>1960.000000</td>\n",
       "      <td>1.577503e+04</td>\n",
       "      <td>2.370705e+00</td>\n",
       "    </tr>\n",
       "    <tr>\n",
       "      <th>25%</th>\n",
       "      <td>0.465717</td>\n",
       "      <td>1.000000e+07</td>\n",
       "      <td>1.400802e+07</td>\n",
       "      <td>96.000000</td>\n",
       "      <td>72.000000</td>\n",
       "      <td>5.700000</td>\n",
       "      <td>1995.000000</td>\n",
       "      <td>1.337542e+07</td>\n",
       "      <td>1.879153e+07</td>\n",
       "    </tr>\n",
       "    <tr>\n",
       "      <th>50%</th>\n",
       "      <td>0.802740</td>\n",
       "      <td>2.400000e+07</td>\n",
       "      <td>4.565877e+07</td>\n",
       "      <td>106.000000</td>\n",
       "      <td>206.000000</td>\n",
       "      <td>6.200000</td>\n",
       "      <td>2004.000000</td>\n",
       "      <td>3.030653e+07</td>\n",
       "      <td>6.230869e+07</td>\n",
       "    </tr>\n",
       "    <tr>\n",
       "      <th>75%</th>\n",
       "      <td>1.379884</td>\n",
       "      <td>5.000000e+07</td>\n",
       "      <td>1.249894e+08</td>\n",
       "      <td>119.000000</td>\n",
       "      <td>582.250000</td>\n",
       "      <td>6.700000</td>\n",
       "      <td>2010.000000</td>\n",
       "      <td>6.076720e+07</td>\n",
       "      <td>1.646753e+08</td>\n",
       "    </tr>\n",
       "    <tr>\n",
       "      <th>max</th>\n",
       "      <td>32.985763</td>\n",
       "      <td>4.250000e+08</td>\n",
       "      <td>2.781506e+09</td>\n",
       "      <td>338.000000</td>\n",
       "      <td>9767.000000</td>\n",
       "      <td>8.400000</td>\n",
       "      <td>2015.000000</td>\n",
       "      <td>4.250000e+08</td>\n",
       "      <td>2.827124e+09</td>\n",
       "    </tr>\n",
       "  </tbody>\n",
       "</table>\n",
       "</div>"
      ],
      "text/plain": [
       "        popularity        budget       revenue      runtime   vote_count  \\\n",
       "count  3828.000000  3.828000e+03  3.828000e+03  3828.000000  3828.000000   \n",
       "mean      1.196928  3.746312e+07  1.083809e+08   109.255486   530.720742   \n",
       "std       1.478507  4.223619e+07  1.769268e+08    19.856581   882.114133   \n",
       "min       0.001117  1.200000e+04  2.000000e+00    26.000000    10.000000   \n",
       "25%       0.465717  1.000000e+07  1.400802e+07    96.000000    72.000000   \n",
       "50%       0.802740  2.400000e+07  4.565877e+07   106.000000   206.000000   \n",
       "75%       1.379884  5.000000e+07  1.249894e+08   119.000000   582.250000   \n",
       "max      32.985763  4.250000e+08  2.781506e+09   338.000000  9767.000000   \n",
       "\n",
       "       vote_average  release_year    budget_adj   revenue_adj  \n",
       "count   3828.000000   3828.000000  3.828000e+03  3.828000e+03  \n",
       "mean       6.168913   2001.275601  4.454719e+07  1.379222e+08  \n",
       "std        0.795069     11.281562  4.480798e+07  2.165623e+08  \n",
       "min        2.200000   1960.000000  1.577503e+04  2.370705e+00  \n",
       "25%        5.700000   1995.000000  1.337542e+07  1.879153e+07  \n",
       "50%        6.200000   2004.000000  3.030653e+07  6.230869e+07  \n",
       "75%        6.700000   2010.000000  6.076720e+07  1.646753e+08  \n",
       "max        8.400000   2015.000000  4.250000e+08  2.827124e+09  "
      ]
     },
     "execution_count": 20,
     "metadata": {},
     "output_type": "execute_result"
    }
   ],
   "source": [
    "df.describe()"
   ]
  },
  {
   "cell_type": "markdown",
   "metadata": {},
   "source": [
    "### Question 1: How does runtime affect the vote ratings of a movie?"
   ]
  },
  {
   "cell_type": "code",
   "execution_count": 21,
   "metadata": {},
   "outputs": [
    {
     "data": {
      "image/png": "[encoded data removed]",
      "text/plain": [
       "<matplotlib.figure.Figure at 0x7f1366660b70>"
      ]
     },
     "metadata": {
      "needs_background": "light"
     },
     "output_type": "display_data"
    }
   ],
   "source": [
    "df.plot(x='runtime', y='vote_average', kind='scatter');"
   ]
  },
  {
   "cell_type": "markdown",
   "metadata": {},
   "source": [
    "After having a look at the scatterplot of runtime versus average vote, it's distinguishable that longer movies tend to get higher votes.  Let's look at the details, considering 106 minutes as a short movie and longer than 106 minutes a long movie."
   ]
  },
  {
   "cell_type": "code",
   "execution_count": 22,
   "metadata": {},
   "outputs": [
    {
     "data": {
      "image/png": "[encoded data removed]",
      "text/plain": [
       "<matplotlib.figure.Figure at 0x7f136635c0b8>"
      ]
     },
     "metadata": {
      "needs_background": "light"
     },
     "output_type": "display_data"
    }
   ],
   "source": [
    "short = df[df['runtime']<=106] #shorter than or equal to median\n",
    "long = df[df['runtime']>106] # longer than median\n",
    "mean_voteavg_short = short['vote_average'].mean() #take the mean of the short movies\n",
    "mean_voteavg_long = long['vote_average'].mean() #take the mean of the long movies\n",
    "locations = [1,2]\n",
    "heights = [mean_voteavg_short, mean_voteavg_long]\n",
    "labels = ['Short', 'Long']\n",
    "plt.bar(locations, heights, tick_label=labels) #generate a bar chart\n",
    "plt.title('Average Vote by Runtime')\n",
    "plt.xlabel('Runtime')\n",
    "plt.ylabel('Average Vote');"
   ]
  },
  {
   "cell_type": "code",
   "execution_count": 23,
   "metadata": {},
   "outputs": [
    {
     "data": {
      "text/plain": [
       "(5.9305278884462149, 6.4319230769230771)"
      ]
     },
     "execution_count": 23,
     "metadata": {},
     "output_type": "execute_result"
    }
   ],
   "source": [
    "mean_voteavg_short, mean_voteavg_long"
   ]
  },
  {
   "cell_type": "markdown",
   "metadata": {},
   "source": [
    "While not necessarily a significant difference, there is still slight correlation between runtime and ratings.  The movies longer than the median receive half a vote higher than those shorter than the  median."
   ]
  },
  {
   "cell_type": "markdown",
   "metadata": {},
   "source": [
    "### Question 2: Which genres are correlated with greater revenue?"
   ]
  },
  {
   "cell_type": "markdown",
   "metadata": {},
   "source": [
    "First, find unique genres since each film can have multiple genres associated with it."
   ]
  },
  {
   "cell_type": "code",
   "execution_count": 24,
   "metadata": {},
   "outputs": [],
   "source": [
    "df['genres'].head(50);"
   ]
  },
  {
   "cell_type": "markdown",
   "metadata": {},
   "source": [
    "Create a mask for each genre"
   ]
  },
  {
   "cell_type": "code",
   "execution_count": 25,
   "metadata": {},
   "outputs": [],
   "source": [
    "action_df = df[df['genres'].str.contains(\"Action\", na=False)]\n",
    "adventure_df = df[df['genres'].str.contains(\"Adventure\", na=False)]\n",
    "animation_df = df[df['genres'].str.contains(\"Animation\", na=False)]\n",
    "crime_df = df[df['genres'].str.contains(\"Crime\", na=False)]\n",
    "documentary_df = df[df['genres'].str.contains(\"Documentary\", na=False)]\n",
    "drama_df = df[df['genres'].str.contains(\"Drama\", na=False)]\n",
    "family_df = df[df['genres'].str.contains(\"Family\", na=False)]\n",
    "fantasy_df = df[df['genres'].str.contains(\"Fantasy\", na=False)]\n",
    "history_df = df[df['genres'].str.contains(\"History\", na=False)]\n",
    "horror_df = df[df['genres'].str.contains(\"Horror\", na=False)]\n",
    "mystery_df = df[df['genres'].str.contains(\"Mystery\", na=False)]\n",
    "romance_df = df[df['genres'].str.contains(\"Romance\", na=False)]\n",
    "scifi_df = df[df['genres'].str.contains(\"Science Fiction\", na=False)]\n",
    "thriller_df = df[df['genres'].str.contains(\"Thriller\", na=False)]\n",
    "war_df = df[df['genres'].str.contains(\"War\", na=False)]\n",
    "western_df = df[df['genres'].str.contains(\"Western\", na=False)]"
   ]
  },
  {
   "cell_type": "markdown",
   "metadata": {},
   "source": [
    "Calculate the mean per genre of various data points that can be compared on a bar chart."
   ]
  },
  {
   "cell_type": "code",
   "execution_count": 26,
   "metadata": {},
   "outputs": [],
   "source": [
    "action_mean_rev = action_df['revenue_adj'].mean()\n",
    "adventure_mean_rev = adventure_df['revenue_adj'].mean()\n",
    "animation_mean_rev = animation_df['revenue_adj'].mean()\n",
    "crime_mean_rev = crime_df['revenue_adj'].mean()\n",
    "documentary_mean_rev = documentary_df['revenue_adj'].mean()\n",
    "drama_mean_rev = drama_df['revenue_adj'].mean()\n",
    "family_mean_rev = family_df['revenue_adj'].mean()\n",
    "fantasy_mean_rev = fantasy_df['revenue_adj'].mean()\n",
    "history_mean_rev = history_df['revenue_adj'].mean()\n",
    "horror_mean_rev = horror_df['revenue_adj'].mean()\n",
    "mystery_mean_rev = mystery_df['revenue_adj'].mean()\n",
    "romance_mean_rev = romance_df['revenue_adj'].mean()\n",
    "scifi_mean_rev = scifi_df['revenue_adj'].mean()\n",
    "thriller_mean_rev = thriller_df['revenue_adj'].mean()\n",
    "war_mean_rev = war_df['revenue_adj'].mean()\n",
    "western_mean_rev = western_df['revenue_adj'].mean()\n"
   ]
  },
  {
   "cell_type": "markdown",
   "metadata": {},
   "source": [
    "Create a bar chart for revenue versus genre"
   ]
  },
  {
   "cell_type": "code",
   "execution_count": 27,
   "metadata": {},
   "outputs": [
    {
     "data": {
      "image/png": "[encoded data removed]",
      "text/plain": [
       "<matplotlib.figure.Figure at 0x7f13662bebe0>"
      ]
     },
     "metadata": {
      "needs_background": "light"
     },
     "output_type": "display_data"
    }
   ],
   "source": [
    "locations = [1,2,3,4,5,6,7,8,9,10,11,12,13,14,15,16]\n",
    "heights = [action_mean_rev,adventure_mean_rev,animation_mean_rev,crime_mean_rev,documentary_mean_rev,drama_mean_rev,family_mean_rev,fantasy_mean_rev,history_mean_rev,horror_mean_rev,mystery_mean_rev,romance_mean_rev,scifi_mean_rev,thriller_mean_rev,war_mean_rev,western_mean_rev]\n",
    "labels = ['Action','Adventure','Animation','Crime','Documentary','Drama','Family','Fantasy','History','Horror','Mystery','Romance','Science Fiction','Thriller','War','Western']\n",
    "plt.figure(figsize=(20,8))\n",
    "plt.bar(locations, heights, tick_label=labels)\n",
    "plt.title('Revenue Adjusted for Inflation by Movie Genre')\n",
    "plt.xlabel('Genre')\n",
    "plt.ylabel('Adjusted Revenue');"
   ]
  },
  {
   "cell_type": "markdown",
   "metadata": {},
   "source": [
    "A few genres that tend to make __more revenue__:\n",
    "\n",
    "- Adventure\n",
    "- Animation\n",
    "- Family\n",
    "- Fantasy\n",
    "\n",
    "A few genres that tend to make __less revenue__:\n",
    "\n",
    "- Documentary\n",
    "- Horror"
   ]
  },
  {
   "cell_type": "markdown",
   "metadata": {},
   "source": [
    "<a id='conclusions'></a>\n",
    "## Conclusions\n",
    "\n",
    "The TMDB Movies data set had quite a few data integrity issues but was still able to provide us with 2 interesting insights.  It's apparent that movies running longer than 106 minutes will on average receive half a vote higher in rating than movies running less than 106 minutes.  I guess folks like longer movies!  We've also learned that a few genres, such as Adventure and Animation, will earn more revenue on averge (on the scale of hundreds of millions), than genres such as Documentaries or Horror.  \n",
    "\n",
    "A number of lessons learned were identified during this end to end data analysis process:\n",
    "1. It would be effective to understand data definitions of a dataset when performing this sort of analysis.  I threw away 70% of the data because it had blank values for revenue or budget.  An alternative would be to identify patterns or correlations with other data points in order to extrapolate out predictive values in those fields.\n",
    "2. The .contains() function is quite useful for creating data masks when parsing is a coding limitation\n",
    "3. There is much to learn about making a figure pretty and illustrative, to ensure the figure it telling the proper message.\n",
    "4. The ability to write functions and embed them in the Jupyter Notebook is something I'd like to learn and be able to apply in the near future.  I did way too much typing for the masks of the genres and it's not sustainable/scalable."
   ]
  },
  {
   "cell_type": "code",
   "execution_count": 29,
   "metadata": {},
   "outputs": [
    {
     "data": {
      "text/plain": [
       "0"
      ]
     },
     "execution_count": 29,
     "metadata": {},
     "output_type": "execute_result"
    }
   ],
   "source": [
    "from subprocess import call\n",
    "call(['python', '-m', 'nbconvert', 'Investigate_a_Dataset.ipynb'])"
   ]
  }
 ],
 "metadata": {
  "kernelspec": {
   "display_name": "Python 3",
   "language": "python",
   "name": "python3"
  },
  "language_info": {
   "codemirror_mode": {
    "name": "ipython",
    "version": 3
   },
   "file_extension": ".py",
   "mimetype": "text/x-python",
   "name": "python",
   "nbconvert_exporter": "python",
   "pygments_lexer": "ipython3",
   "version": "3.6.3"
  }
 },
 "nbformat": 4,
 "nbformat_minor": 2
}

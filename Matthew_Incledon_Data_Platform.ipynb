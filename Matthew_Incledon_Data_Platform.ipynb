{
  "nbformat": 4,
  "nbformat_minor": 0,
  "metadata": {
    "colab": {
      "name": "Matthew Incledon -Data Platform",
      "provenance": [],
      "collapsed_sections": [
        "Tu7Z8DTsdPLS",
        "Lox47NKOcGK2",
        "Bt9o9Fk5cNHI",
        "a_CidH9Vcxbm"
      ],
      "include_colab_link": true
    },
    "kernelspec": {
      "name": "python3",
      "display_name": "Python 3"
    }
  },
  "cells": [
    {
      "cell_type": "markdown",
      "metadata": {
        "id": "view-in-github",
        "colab_type": "text"
      },
      "source": [
        "<a href=\"https://colab.research.google.com/github/matthewincledon/Project-Files/blob/master/Matthew_Incledon_Data_Platform.ipynb\" target=\"_parent\"><img src=\"https://colab.research.google.com/assets/colab-badge.svg\" alt=\"Open In Colab\"/></a>"
      ]
    },
    {
      "cell_type": "markdown",
      "metadata": {
        "id": "_UoB2wPPpVig"
      },
      "source": [
        "Your colleague is working on a game to help teach kids about the solar system. She found an API that would let her get information about solar system objects. Using the [API documentation](https://api.le-systeme-solaire.net/en/) and [web UI](https://api.le-systeme-solaire.net/swagger/#/bodies/get_bodies) she was able to get the data about objects classified as planets into a pandas dataframe, as shown in the code below. (Note that she had to exclude the \"rel\" field, as that caused a problem for the JSON->Dataframe conversion.) She is asking you to take on some of this project.\n",
        "\n",
        "In the game, players will be able to design their own solar system objects. They can specify some of the values and leave others blank for the game to fill in with something reasonable.\n",
        "\n",
        "To support this, please write a function that takes in a dictionary of fields and values and returns the item in the database that is \"closest\" to these values, so that your colleague can use it to fill in missing fields. Use your judgement about which fields you should support and which are not things that users would be choosing."
      ]
    },
    {
      "cell_type": "code",
      "metadata": {
        "id": "uRhp9vFTgh5w",
        "colab": {
          "base_uri": "https://localhost:8080/"
        },
        "outputId": "85f8bb32-ca3e-4233-f92e-62ac4b8753e8"
      },
      "source": [
        "import requests\n",
        "import json\n",
        "!pip install fsspec\n",
        "import pandas as pd\n",
        "import numpy as np"
      ],
      "execution_count": null,
      "outputs": [
        {
          "output_type": "stream",
          "text": [
            "Collecting fsspec\n",
            "\u001b[?25l  Downloading https://files.pythonhosted.org/packages/ec/80/72ac0982cc833945fada4b76c52f0f65435ba4d53bc9317d1c70b5f7e7d5/fsspec-0.8.5-py3-none-any.whl (98kB)\n",
            "\r\u001b[K     |███▎                            | 10kB 11.7MB/s eta 0:00:01\r\u001b[K     |██████▋                         | 20kB 14.4MB/s eta 0:00:01\r\u001b[K     |██████████                      | 30kB 8.8MB/s eta 0:00:01\r\u001b[K     |█████████████▎                  | 40kB 8.0MB/s eta 0:00:01\r\u001b[K     |████████████████▋               | 51kB 4.4MB/s eta 0:00:01\r\u001b[K     |████████████████████            | 61kB 4.4MB/s eta 0:00:01\r\u001b[K     |███████████████████████▏        | 71kB 4.6MB/s eta 0:00:01\r\u001b[K     |██████████████████████████▌     | 81kB 5.0MB/s eta 0:00:01\r\u001b[K     |█████████████████████████████▉  | 92kB 5.2MB/s eta 0:00:01\r\u001b[K     |████████████████████████████████| 102kB 3.8MB/s \n",
            "\u001b[?25hInstalling collected packages: fsspec\n",
            "Successfully installed fsspec-0.8.5\n"
          ],
          "name": "stdout"
        }
      ]
    },
    {
      "cell_type": "code",
      "metadata": {
        "id": "6ydPKm-DkxMn",
        "colab": {
          "base_uri": "https://localhost:8080/",
          "height": 137
        },
        "outputId": "f836b9c4-e481-4b78-d181-06021fc7a007"
      },
      "source": [
        "r = requests.get(\"https://api.le-systeme-solaire.net/rest.php/bodies?exclude=rel&filter%5B%5D=isPlanet%2Cneq%2Cfalse\")\n",
        "# GET request to this endpoint with following parameters:\n",
        "# exclude = rel\n",
        "# filter[] = isPlanet != FALSE\n",
        "# returns 13 planet records\n",
        "r.text"
      ],
      "execution_count": null,
      "outputs": [
        {
          "output_type": "execute_result",
          "data": {
            "application/vnd.google.colaboratory.intrinsic+json": {
              "type": "string"
            },
            "text/plain": [
              "'{\"bodies\":[{\"id\":\"ceres\",\"name\":\"(1) Cérès\",\"englishName\":\"1 Ceres\",\"isPlanet\":true,\"moons\":null,\"semimajorAxis\":413690250,\"perihelion\":382620000,\"aphelion\":445410000,\"eccentricity\":0.07582,\"inclination\":10.59300,\"mass\":{\"massValue\":9.39300,\"massExponent\":20},\"vol\":{\"volValue\":4.21000,\"volExponent\":9},\"density\":2.16100,\"gravity\":0.28000,\"escape\":510.00000,\"meanRadius\":476.20000,\"equaRadius\":487.00000,\"polarRadius\":455.00000,\"flattening\":0.96190,\"dimension\":\"\",\"sideralOrbit\":1681.63000,\"sideralRotation\":9.07000,\"aroundPlanet\":null,\"discoveredBy\":\"Giuseppe Piazzi\",\"discoveryDate\":\"01/01/1801\",\"alternativeName\":\"A899 OF - 1943 XB\",\"axialTilt\":3},{\"id\":\"eris\",\"name\":\"(136199) Éris\",\"englishName\":\"136199 Eris\",\"isPlanet\":true,\"moons\":[{\"moon\":\"Dysnomie\"}],\"semimajorAxis\":10180122852,\"perihelion\":5765732799,\"aphelion\":14594512904,\"eccentricity\":0.44068,\"inclination\":44.04450,\"mass\":{\"massValue\":1.66000,\"massExponent\":22},\"vol\":{\"volValue\":6.59000,\"volExponent\":9},\"density\":2.52000,\"gravity\":0.82000,\"escape\":1380.00000,\"meanRadius\":1163.00000,\"equaRadius\":0.00000,\"polarRadius\":0.00000,\"flattening\":0.00000,\"dimension\":\"\",\"sideralOrbit\":203830.00000,\"sideralRotation\":25.92000,\"aroundPlanet\":null,\"discoveredBy\":\"Michael E. Brown, Chadwick Trujillo, David L. Rabinowitz\",\"discoveryDate\":\"05/01/2005\",\"alternativeName\":\"2003 UB313\",\"axialTilt\":0},{\"id\":\"uranus\",\"name\":\"Uranus\",\"englishName\":\"Uranus\",\"isPlanet\":true,\"moons\":[{\"moon\":\"Ariel\"},{\"moon\":\"Umbriel\"},{\"moon\":\"Titania\"},{\"moon\":\"Obéron\"},{\"moon\":\"Miranda\"},{\"moon\":\"Cordélia\"},{\"moon\":\"Ophélie\"},{\"moon\":\"Bianca\"},{\"moon\":\"Cressida\"},{\"moon\":\"Desdémone\"},{\"moon\":\"Juliette\"},{\"moon\":\"Portia\"},{\"moon\":\"Rosalinde\"},{\"moon\":\"Belinda\"},{\"moon\":\"Puck\"},{\"moon\":\"Caliban\"},{\"moon\":\"Sycorax\"},{\"moon\":\"Prospero\"},{\"moon\":\"Setebos\"},{\"moon\":\"Stephano\"},{\"moon\":\"Trinculo\"},{\"moon\":\"Francisco\"},{\"moon\":\"Margaret\"},{\"moon\":\"Ferdinand\"},{\"moon\":\"Perdita\"},{\"moon\":\"Mab\"},{\"moon\":\"Cupid\"}],\"semimajorAxis\":2870658186,\"perihelion\":2734998229,\"aphelion\":3006318143,\"eccentricity\":0.04570,\"inclination\":0.77200,\"mass\":{\"massValue\":8.68127,\"massExponent\":25},\"vol\":{\"volValue\":6.83300,\"volExponent\":13},\"density\":1.27000,\"gravity\":8.87000,\"escape\":21380.00000,\"meanRadius\":25362.00000,\"equaRadius\":25559.00000,\"polarRadius\":24973.00000,\"flattening\":0.02293,\"dimension\":\"\",\"sideralOrbit\":30685.40000,\"sideralRotation\":-17.24000,\"aroundPlanet\":null,\"discoveredBy\":\"William Herschel\",\"discoveryDate\":\"13/03/1781\",\"alternativeName\":\"\",\"axialTilt\":97.77},{\"id\":\"pluton\",\"name\":\"Pluton\",\"englishName\":\"Pluto\",\"isPlanet\":true,\"moons\":[{\"moon\":\"Charon\"},{\"moon\":\"Nix\"},{\"moon\":\"Hydra\"},{\"moon\":\"Kerberos\"},{\"moon\":\"Styx\"}],\"semimajorAxis\":5906440628,\"perihelion\":4436756954,\"aphelion\":7376124302,\"eccentricity\":0.24880,\"inclination\":17.16000,\"mass\":{\"massValue\":1.30300,\"massExponent\":22},\"vol\":{\"volValue\":7.15000,\"volExponent\":9},\"density\":1.89000,\"gravity\":0.62000,\"escape\":1210.00000,\"meanRadius\":1188.30000,\"equaRadius\":1188.30000,\"polarRadius\":1195.00000,\"flattening\":0.00000,\"dimension\":\"\",\"sideralOrbit\":90465.00000,\"sideralRotation\":-153.29280,\"aroundPlanet\":null,\"discoveredBy\":\"Clyde W. Tombaugh\",\"discoveryDate\":\"18/02/1930\",\"alternativeName\":\"\",\"axialTilt\":122.5},{\"id\":\"neptune\",\"name\":\"Neptune\",\"englishName\":\"Neptune\",\"isPlanet\":true,\"moons\":[{\"moon\":\"Triton\"},{\"moon\":\"Néreïde\"},{\"moon\":\"Naïade\"},{\"moon\":\"Thalassa\"},{\"moon\":\"Despina\"},{\"moon\":\"Galatée\"},{\"moon\":\"Larissa\"},{\"moon\":\"Protée\"},{\"moon\":\"Halimède\"},{\"moon\":\"Psamathée\"},{\"moon\":\"Sao\"},{\"moon\":\"Laomédie\"},{\"moon\":\"Néso\"},{\"moon\":\"Hippocampe\"}],\"semimajorAxis\":4498396441,\"perihelion\":4459753056,\"aphelion\":4537039826,\"eccentricity\":0.01130,\"inclination\":1.76900,\"mass\":{\"massValue\":1.02413,\"massExponent\":26},\"vol\":{\"volValue\":6.25400,\"volExponent\":13},\"density\":1.63800,\"gravity\":11.15000,\"escape\":23560.00000,\"meanRadius\":24622.00000,\"equaRadius\":24764.00000,\"polarRadius\":24341.00000,\"flattening\":0.01708,\"dimension\":\"\",\"sideralOrbit\":60189.00000,\"sideralRotation\":16.11000,\"aroundPlanet\":null,\"discoveredBy\":\"Urbain Le Verrier, John Couch Adams, Johann Galle\",\"discoveryDate\":\"23/09/1846\",\"alternativeName\":\"\",\"axialTilt\":28.3},{\"id\":\"haumea\",\"name\":\"(136108) Hauméa\",\"englishName\":\"136108 Haumea\",\"isPlanet\":true,\"moons\":[{\"moon\":\"Namaka\"},{\"moon\":\"Hi\\'iaka\"}],\"semimajorAxis\":6432011461,\"perihelion\":5157623774,\"aphelion\":7706399149,\"eccentricity\":0.19126,\"inclination\":28.19000,\"mass\":{\"massValue\":4.00600,\"massExponent\":21},\"vol\":{\"volValue\":2.40000,\"volExponent\":9},\"density\":2.60000,\"gravity\":0.40100,\"escape\":809.00000,\"meanRadius\":33.00000,\"equaRadius\":0.00000,\"polarRadius\":498.00000,\"flattening\":0.61020,\"dimension\":\"1960 × 1518 × 996\",\"sideralOrbit\":103774.00000,\"sideralRotation\":3.92000,\"aroundPlanet\":null,\"discoveredBy\":\"Michael E. Brown, Jos&eacute; Luis Ortiz Moreno\",\"discoveryDate\":\"28/12/2004\",\"alternativeName\":\"2003 EL61\",\"axialTilt\":0},{\"id\":\"makemake\",\"name\":\"(136472) Makémaké\",\"englishName\":\"136472 Makemake\",\"isPlanet\":true,\"moons\":[{\"moon\":\"S/2015 (136472) 1\"}],\"semimajorAxis\":6783345606,\"perihelion\":5671928586,\"aphelion\":7894762625,\"eccentricity\":0.15586,\"inclination\":29.00685,\"mass\":{\"massValue\":4.40000,\"massExponent\":21},\"vol\":{\"volValue\":1.70000,\"volExponent\":9},\"density\":1.40000,\"gravity\":0.50000,\"escape\":800.00000,\"meanRadius\":725.00000,\"equaRadius\":745.00000,\"polarRadius\":715.00000,\"flattening\":0.05000,\"dimension\":\"\",\"sideralOrbit\":112897.00000,\"sideralRotation\":0.00000,\"aroundPlanet\":null,\"discoveredBy\":\"Michael E. Brown, Chadwick Trujillo, David L. Rabinowitz\",\"discoveryDate\":\"31/03/2005\",\"alternativeName\":\"2005 FY9\",\"axialTilt\":0},{\"id\":\"jupiter\",\"name\":\"Jupiter\",\"englishName\":\"Jupiter\",\"isPlanet\":true,\"moons\":[{\"moon\":\"Io\"},{\"moon\":\"Europe\"},{\"moon\":\"Ganymède\"},{\"moon\":\"Callisto\"},{\"moon\":\"Amalthée\"},{\"moon\":\"Himalia\"},{\"moon\":\"Élara\"},{\"moon\":\"Pasiphaé\"},{\"moon\":\"Sinopé\"},{\"moon\":\"Lysithéa\"},{\"moon\":\"Carmé\"},{\"moon\":\"Ananké\"},{\"moon\":\"Léda\"},{\"moon\":\"Thébé\"},{\"moon\":\"Adrastée\"},{\"moon\":\"Métis\"},{\"moon\":\"Callirrhoé\"},{\"moon\":\"Thémisto\"},{\"moon\":\"Mégaclité\"},{\"moon\":\"Taygété\"},{\"moon\":\"Chaldéné\"},{\"moon\":\"Harpalyké\"},{\"moon\":\"Kalyké\"},{\"moon\":\"Iocasté\"},{\"moon\":\"Erinomé\"},{\"moon\":\"Isonoé\"},{\"moon\":\"Praxidyké\"},{\"moon\":\"Autonoé\"},{\"moon\":\"Thyoné\"},{\"moon\":\"Hermippé\"},{\"moon\":\"Aitné\"},{\"moon\":\"Eurydomé\"},{\"moon\":\"Euanthé\"},{\"moon\":\"Euporie\"},{\"moon\":\"Orthosie\"},{\"moon\":\"Spondé\"},{\"moon\":\"Calé\"},{\"moon\":\"Pasithée\"},{\"moon\":\"Hégémone\"},{\"moon\":\"Mnémé\"},{\"moon\":\"Aoedé\"},{\"moon\":\"Thelxinoé\"},{\"moon\":\"Arché\"},{\"moon\":\"Callichore\"},{\"moon\":\"Hélicé\"},{\"moon\":\"Carpo\"},{\"moon\":\"Eukéladé\"},{\"moon\":\"Cyllène\"},{\"moon\":\"Coré\"},{\"moon\":\"Hersé\"},{\"moon\":\"S/2003 J 2\"},{\"moon\":\"Euphémé\"},{\"moon\":\"S/2003 J 4\"},{\"moon\":\"Eiréné\"},{\"moon\":\"S/2003 J 9\"},{\"moon\":\"S/2003 J 10\"},{\"moon\":\"S/2003 J 12\"},{\"moon\":\"Philophrosyne\"},{\"moon\":\"S/2003 J 16\"},{\"moon\":\"S/2003 J 18\"},{\"moon\":\"S/2003 J 19\"},{\"moon\":\"S/2003 J 23\"},{\"moon\":\"Dia\"},{\"moon\":\"S/2010 J 1\"},{\"moon\":\"S/2010 J 2\"},{\"moon\":\"S/2011 J 1\"},{\"moon\":\"S/2011 J 2\"},{\"moon\":\"S/2017 J 1\"},{\"moon\":\"S/2016 J 1\"},{\"moon\":\"Valétudo\"},{\"moon\":\"S/2017 J 2\"},{\"moon\":\"S/2017 J 3\"},{\"moon\":\"Pandia\"},{\"moon\":\"S/2017 J 5\"},{\"moon\":\"S/2017 J 6\"},{\"moon\":\"S/2017 J 7\"},{\"moon\":\"S/2017 J 8\"},{\"moon\":\"S/2017 J 9\"},{\"moon\":\"Ersa\"}],\"semimajorAxis\":778340821,\"perihelion\":740379835,\"aphelion\":816620000,\"eccentricity\":0.04890,\"inclination\":1.30400,\"mass\":{\"massValue\":1.89819,\"massExponent\":27},\"vol\":{\"volValue\":1.43128,\"volExponent\":15},\"density\":1.32620,\"gravity\":24.79000,\"escape\":60200.00000,\"meanRadius\":69911.00000,\"equaRadius\":71492.00000,\"polarRadius\":66854.00000,\"flattening\":0.06487,\"dimension\":\"\",\"sideralOrbit\":4332.58900,\"sideralRotation\":9.92500,\"aroundPlanet\":null,\"discoveredBy\":\"\",\"discoveryDate\":\"\",\"alternativeName\":\"\",\"axialTilt\":3.12},{\"id\":\"mars\",\"name\":\"Mars\",\"englishName\":\"Mars\",\"isPlanet\":true,\"moons\":[{\"moon\":\"Phobos\"},{\"moon\":\"Deïmos\"}],\"semimajorAxis\":227943824,\"perihelion\":206700000,\"aphelion\":249200000,\"eccentricity\":0.09350,\"inclination\":1.85000,\"mass\":{\"massValue\":6.41712,\"massExponent\":23},\"vol\":{\"volValue\":1.63180,\"volExponent\":11},\"density\":3.93410,\"gravity\":3.71000,\"escape\":5030.00000,\"meanRadius\":3389.50000,\"equaRadius\":3396.19000,\"polarRadius\":3376.20000,\"flattening\":0.00589,\"dimension\":\"\",\"sideralOrbit\":686.98000,\"sideralRotation\":24.62290,\"aroundPlanet\":null,\"discoveredBy\":\"\",\"discoveryDate\":\"\",\"alternativeName\":\"\",\"axialTilt\":25.19},{\"id\":\"mercure\",\"name\":\"Mercure\",\"englishName\":\"Mercury\",\"isPlanet\":true,\"moons\":null,\"semimajorAxis\":57909227,\"perihelion\":46001200,\"aphelion\":69816900,\"eccentricity\":0.20560,\"inclination\":7.00000,\"mass\":{\"massValue\":3.30114,\"massExponent\":23},\"vol\":{\"volValue\":6.08300,\"volExponent\":10},\"density\":5.42910,\"gravity\":3.70000,\"escape\":4250.00000,\"meanRadius\":2439.40000,\"equaRadius\":2440.53000,\"polarRadius\":2439.70000,\"flattening\":0.00000,\"dimension\":\"\",\"sideralOrbit\":87.96900,\"sideralRotation\":1407.60000,\"aroundPlanet\":null,\"discoveredBy\":\"\",\"discoveryDate\":\"\",\"alternativeName\":\"\",\"axialTilt\":0.0352},{\"id\":\"saturne\",\"name\":\"Saturne\",\"englishName\":\"Saturn\",\"isPlanet\":true,\"moons\":[{\"moon\":\"Mimas\"},{\"moon\":\"Encelade\"},{\"moon\":\"Téthys\"},{\"moon\":\"Dioné\"},{\"moon\":\"Rhéa\"},{\"moon\":\"Titan\"},{\"moon\":\"Hypérion\"},{\"moon\":\"Japet\"},{\"moon\":\"Phœbé\"},{\"moon\":\"Janus\"},{\"moon\":\"Epiméthée\"},{\"moon\":\"Hélène\"},{\"moon\":\"Télesto\"},{\"moon\":\"Calypso\"},{\"moon\":\"Atlas\"},{\"moon\":\"Prométhée\"},{\"moon\":\"Pandore\"},{\"moon\":\"Pan\"},{\"moon\":\"Ymir\"},{\"moon\":\"Paaliaq\"},{\"moon\":\"Tarvos\"},{\"moon\":\"Ijiraq\"},{\"moon\":\"Suttungr\"},{\"moon\":\"Kiviuq\"},{\"moon\":\"Mundilfari\"},{\"moon\":\"Albiorix\"},{\"moon\":\"Skathi\"},{\"moon\":\"Erriapo\"},{\"moon\":\"Siarnaq\"},{\"moon\":\"Thrymr\"},{\"moon\":\"Narvi\"},{\"moon\":\"Méthone\"},{\"moon\":\"Pallène\"},{\"moon\":\"Pollux\"},{\"moon\":\"Daphnis\"},{\"moon\":\"Aegir\"},{\"moon\":\"Bebhionn\"},{\"moon\":\"Bergelmir\"},{\"moon\":\"Bestla\"},{\"moon\":\"Farbauti\"},{\"moon\":\"Fenrir\"},{\"moon\":\"Fornjot\"},{\"moon\":\"Hati\"},{\"moon\":\"Hyrrokkin\"},{\"moon\":\"Kari\"},{\"moon\":\"Loge\"},{\"moon\":\"Skoll\"},{\"moon\":\"Surtur\"},{\"moon\":\"Anthé\"},{\"moon\":\"Jarnsaxa\"},{\"moon\":\"Greip\"},{\"moon\":\"Tarqeq\"},{\"moon\":\"Égéon\"},{\"moon\":\"S/2004 S 7\"},{\"moon\":\"S/2004 S 12\"},{\"moon\":\"S/2004 S 13\"},{\"moon\":\"S/2004 S 17\"},{\"moon\":\"S/2006 S 1\"},{\"moon\":\"S/2006 S 3\"},{\"moon\":\"S/2007 S 2\"},{\"moon\":\"S/2007 S 3\"},{\"moon\":\"S/2009 S 1\"},{\"moon\":\"S/2004 S 22\"},{\"moon\":\"S/2004 S 21\"},{\"moon\":\"S/2004 S 20\"},{\"moon\":\"S/2004 S 23\"},{\"moon\":\"S/2004 S 24\"},{\"moon\":\"S/2004 S 25\"},{\"moon\":\"S/2004 S 26\"},{\"moon\":\"S/2004 S 27\"},{\"moon\":\"S/2004 S 28\"},{\"moon\":\"S/2004 S 29\"},{\"moon\":\"S/2004 S 30\"},{\"moon\":\"S/2004 S 31\"},{\"moon\":\"S/2004 S 32\"},{\"moon\":\"S/2004 S 33\"},{\"moon\":\"S/2004 S 34\"},{\"moon\":\"S/2004 S 35\"},{\"moon\":\"S/2004 S 36\"},{\"moon\":\"S/2004 S 37\"},{\"moon\":\"S/2004 S 38\"},{\"moon\":\"S/2004 S 39\"}],\"semimajorAxis\":1426666422,\"perihelion\":1349823615,\"aphelion\":1503509229,\"eccentricity\":0.05650,\"inclination\":2.48500,\"mass\":{\"massValue\":5.68336,\"massExponent\":26},\"vol\":{\"volValue\":8.27130,\"volExponent\":14},\"density\":0.68710,\"gravity\":10.44000,\"escape\":36090.00000,\"meanRadius\":58232.00000,\"equaRadius\":60268.00000,\"polarRadius\":54364.00000,\"flattening\":0.09796,\"dimension\":\"\",\"sideralOrbit\":10759.22000,\"sideralRotation\":10.65600,\"aroundPlanet\":null,\"discoveredBy\":\"\",\"discoveryDate\":\"\",\"alternativeName\":\"\",\"axialTilt\":26.73},{\"id\":\"terre\",\"name\":\"La Terre\",\"englishName\":\"Earth\",\"isPlanet\":true,\"moons\":[{\"moon\":\"La Lune\"}],\"semimajorAxis\":149598262,\"perihelion\":147095000,\"aphelion\":152100000,\"eccentricity\":0.01670,\"inclination\":0.00000,\"mass\":{\"massValue\":5.97237,\"massExponent\":24},\"vol\":{\"volValue\":1.08321,\"volExponent\":12},\"density\":5.51360,\"gravity\":9.80000,\"escape\":11190.00000,\"meanRadius\":6371.00840,\"equaRadius\":6378.13660,\"polarRadius\":6356.80000,\"flattening\":0.00335,\"dimension\":\"\",\"sideralOrbit\":365.25600,\"sideralRotation\":23.93450,\"aroundPlanet\":null,\"discoveredBy\":\"\",\"discoveryDate\":\"\",\"alternativeName\":\"\",\"axialTilt\":23.4393},{\"id\":\"venus\",\"name\":\"Vénus\",\"englishName\":\"Venus\",\"isPlanet\":true,\"moons\":null,\"semimajorAxis\":108208475,\"perihelion\":107477000,\"aphelion\":108939000,\"eccentricity\":0.00670,\"inclination\":3.39000,\"mass\":{\"massValue\":4.86747,\"massExponent\":24},\"vol\":{\"volValue\":9.28430,\"volExponent\":11},\"density\":5.24300,\"gravity\":8.87000,\"escape\":10360.00000,\"meanRadius\":6051.80000,\"equaRadius\":6051.80000,\"polarRadius\":6051.80000,\"flattening\":0.00000,\"dimension\":\"\",\"sideralOrbit\":224.70100,\"sideralRotation\":-5832.50000,\"aroundPlanet\":null,\"discoveredBy\":\"\",\"discoveryDate\":\"\",\"alternativeName\":\"\",\"axialTilt\":177.36}]}'"
            ]
          },
          "metadata": {
            "tags": []
          },
          "execution_count": 2
        }
      ]
    },
    {
      "cell_type": "code",
      "metadata": {
        "id": "xQSCJ9srk3Ir",
        "colab": {
          "base_uri": "https://localhost:8080/",
          "height": 1000
        },
        "outputId": "f2d8fba0-acb9-46dc-b3d5-78f8fc527280"
      },
      "source": [
        "df = pd.read_json(json.dumps(json.loads(r.text)[\"bodies\"]), orient=\"records\")\n",
        "df"
      ],
      "execution_count": null,
      "outputs": [
        {
          "output_type": "execute_result",
          "data": {
            "text/html": [
              "<div>\n",
              "<style scoped>\n",
              "    .dataframe tbody tr th:only-of-type {\n",
              "        vertical-align: middle;\n",
              "    }\n",
              "\n",
              "    .dataframe tbody tr th {\n",
              "        vertical-align: top;\n",
              "    }\n",
              "\n",
              "    .dataframe thead th {\n",
              "        text-align: right;\n",
              "    }\n",
              "</style>\n",
              "<table border=\"1\" class=\"dataframe\">\n",
              "  <thead>\n",
              "    <tr style=\"text-align: right;\">\n",
              "      <th></th>\n",
              "      <th>id</th>\n",
              "      <th>name</th>\n",
              "      <th>englishName</th>\n",
              "      <th>isPlanet</th>\n",
              "      <th>moons</th>\n",
              "      <th>semimajorAxis</th>\n",
              "      <th>perihelion</th>\n",
              "      <th>aphelion</th>\n",
              "      <th>eccentricity</th>\n",
              "      <th>inclination</th>\n",
              "      <th>mass</th>\n",
              "      <th>vol</th>\n",
              "      <th>density</th>\n",
              "      <th>gravity</th>\n",
              "      <th>escape</th>\n",
              "      <th>meanRadius</th>\n",
              "      <th>equaRadius</th>\n",
              "      <th>polarRadius</th>\n",
              "      <th>flattening</th>\n",
              "      <th>dimension</th>\n",
              "      <th>sideralOrbit</th>\n",
              "      <th>sideralRotation</th>\n",
              "      <th>aroundPlanet</th>\n",
              "      <th>discoveredBy</th>\n",
              "      <th>discoveryDate</th>\n",
              "      <th>alternativeName</th>\n",
              "      <th>axialTilt</th>\n",
              "    </tr>\n",
              "  </thead>\n",
              "  <tbody>\n",
              "    <tr>\n",
              "      <th>0</th>\n",
              "      <td>ceres</td>\n",
              "      <td>(1) Cérès</td>\n",
              "      <td>1 Ceres</td>\n",
              "      <td>True</td>\n",
              "      <td>None</td>\n",
              "      <td>413690250</td>\n",
              "      <td>382620000</td>\n",
              "      <td>445410000</td>\n",
              "      <td>0.07582</td>\n",
              "      <td>10.59300</td>\n",
              "      <td>{'massValue': 9.393, 'massExponent': 20}</td>\n",
              "      <td>{'volValue': 4.21, 'volExponent': 9}</td>\n",
              "      <td>2.1610</td>\n",
              "      <td>0.280</td>\n",
              "      <td>510</td>\n",
              "      <td>476.2000</td>\n",
              "      <td>487.0000</td>\n",
              "      <td>455.0</td>\n",
              "      <td>0.96190</td>\n",
              "      <td></td>\n",
              "      <td>1681.630</td>\n",
              "      <td>9.0700</td>\n",
              "      <td>NaN</td>\n",
              "      <td>Giuseppe Piazzi</td>\n",
              "      <td>01/01/1801</td>\n",
              "      <td>A899 OF - 1943 XB</td>\n",
              "      <td>3.0000</td>\n",
              "    </tr>\n",
              "    <tr>\n",
              "      <th>1</th>\n",
              "      <td>eris</td>\n",
              "      <td>(136199) Éris</td>\n",
              "      <td>136199 Eris</td>\n",
              "      <td>True</td>\n",
              "      <td>[{'moon': 'Dysnomie'}]</td>\n",
              "      <td>10180122852</td>\n",
              "      <td>5765732799</td>\n",
              "      <td>14594512904</td>\n",
              "      <td>0.44068</td>\n",
              "      <td>44.04450</td>\n",
              "      <td>{'massValue': 1.6600000000000001, 'massExponen...</td>\n",
              "      <td>{'volValue': 6.59, 'volExponent': 9}</td>\n",
              "      <td>2.5200</td>\n",
              "      <td>0.820</td>\n",
              "      <td>1380</td>\n",
              "      <td>1163.0000</td>\n",
              "      <td>0.0000</td>\n",
              "      <td>0.0</td>\n",
              "      <td>0.00000</td>\n",
              "      <td></td>\n",
              "      <td>203830.000</td>\n",
              "      <td>25.9200</td>\n",
              "      <td>NaN</td>\n",
              "      <td>Michael E. Brown, Chadwick Trujillo, David L. ...</td>\n",
              "      <td>05/01/2005</td>\n",
              "      <td>2003 UB313</td>\n",
              "      <td>0.0000</td>\n",
              "    </tr>\n",
              "    <tr>\n",
              "      <th>2</th>\n",
              "      <td>uranus</td>\n",
              "      <td>Uranus</td>\n",
              "      <td>Uranus</td>\n",
              "      <td>True</td>\n",
              "      <td>[{'moon': 'Ariel'}, {'moon': 'Umbriel'}, {'moo...</td>\n",
              "      <td>2870658186</td>\n",
              "      <td>2734998229</td>\n",
              "      <td>3006318143</td>\n",
              "      <td>0.04570</td>\n",
              "      <td>0.77200</td>\n",
              "      <td>{'massValue': 8.68127, 'massExponent': 25}</td>\n",
              "      <td>{'volValue': 6.833, 'volExponent': 13}</td>\n",
              "      <td>1.2700</td>\n",
              "      <td>8.870</td>\n",
              "      <td>21380</td>\n",
              "      <td>25362.0000</td>\n",
              "      <td>25559.0000</td>\n",
              "      <td>24973.0</td>\n",
              "      <td>0.02293</td>\n",
              "      <td></td>\n",
              "      <td>30685.400</td>\n",
              "      <td>-17.2400</td>\n",
              "      <td>NaN</td>\n",
              "      <td>William Herschel</td>\n",
              "      <td>13/03/1781</td>\n",
              "      <td></td>\n",
              "      <td>97.7700</td>\n",
              "    </tr>\n",
              "    <tr>\n",
              "      <th>3</th>\n",
              "      <td>pluton</td>\n",
              "      <td>Pluton</td>\n",
              "      <td>Pluto</td>\n",
              "      <td>True</td>\n",
              "      <td>[{'moon': 'Charon'}, {'moon': 'Nix'}, {'moon':...</td>\n",
              "      <td>5906440628</td>\n",
              "      <td>4436756954</td>\n",
              "      <td>7376124302</td>\n",
              "      <td>0.24880</td>\n",
              "      <td>17.16000</td>\n",
              "      <td>{'massValue': 1.303, 'massExponent': 22}</td>\n",
              "      <td>{'volValue': 7.15, 'volExponent': 9}</td>\n",
              "      <td>1.8900</td>\n",
              "      <td>0.620</td>\n",
              "      <td>1210</td>\n",
              "      <td>1188.3000</td>\n",
              "      <td>1188.3000</td>\n",
              "      <td>1195.0</td>\n",
              "      <td>0.00000</td>\n",
              "      <td></td>\n",
              "      <td>90465.000</td>\n",
              "      <td>-153.2928</td>\n",
              "      <td>NaN</td>\n",
              "      <td>Clyde W. Tombaugh</td>\n",
              "      <td>18/02/1930</td>\n",
              "      <td></td>\n",
              "      <td>122.5000</td>\n",
              "    </tr>\n",
              "    <tr>\n",
              "      <th>4</th>\n",
              "      <td>neptune</td>\n",
              "      <td>Neptune</td>\n",
              "      <td>Neptune</td>\n",
              "      <td>True</td>\n",
              "      <td>[{'moon': 'Triton'}, {'moon': 'Néreïde'}, {'mo...</td>\n",
              "      <td>4498396441</td>\n",
              "      <td>4459753056</td>\n",
              "      <td>4537039826</td>\n",
              "      <td>0.01130</td>\n",
              "      <td>1.76900</td>\n",
              "      <td>{'massValue': 1.02413, 'massExponent': 26}</td>\n",
              "      <td>{'volValue': 6.254, 'volExponent': 13}</td>\n",
              "      <td>1.6380</td>\n",
              "      <td>11.150</td>\n",
              "      <td>23560</td>\n",
              "      <td>24622.0000</td>\n",
              "      <td>24764.0000</td>\n",
              "      <td>24341.0</td>\n",
              "      <td>0.01708</td>\n",
              "      <td></td>\n",
              "      <td>60189.000</td>\n",
              "      <td>16.1100</td>\n",
              "      <td>NaN</td>\n",
              "      <td>Urbain Le Verrier, John Couch Adams, Johann Galle</td>\n",
              "      <td>23/09/1846</td>\n",
              "      <td></td>\n",
              "      <td>28.3000</td>\n",
              "    </tr>\n",
              "    <tr>\n",
              "      <th>5</th>\n",
              "      <td>haumea</td>\n",
              "      <td>(136108) Hauméa</td>\n",
              "      <td>136108 Haumea</td>\n",
              "      <td>True</td>\n",
              "      <td>[{'moon': 'Namaka'}, {'moon': 'Hi'iaka'}]</td>\n",
              "      <td>6432011461</td>\n",
              "      <td>5157623774</td>\n",
              "      <td>7706399149</td>\n",
              "      <td>0.19126</td>\n",
              "      <td>28.19000</td>\n",
              "      <td>{'massValue': 4.006, 'massExponent': 21}</td>\n",
              "      <td>{'volValue': 2.4, 'volExponent': 9}</td>\n",
              "      <td>2.6000</td>\n",
              "      <td>0.401</td>\n",
              "      <td>809</td>\n",
              "      <td>33.0000</td>\n",
              "      <td>0.0000</td>\n",
              "      <td>498.0</td>\n",
              "      <td>0.61020</td>\n",
              "      <td>1960 × 1518 × 996</td>\n",
              "      <td>103774.000</td>\n",
              "      <td>3.9200</td>\n",
              "      <td>NaN</td>\n",
              "      <td>Michael E. Brown, Jos&amp;eacute; Luis Ortiz Moreno</td>\n",
              "      <td>28/12/2004</td>\n",
              "      <td>2003 EL61</td>\n",
              "      <td>0.0000</td>\n",
              "    </tr>\n",
              "    <tr>\n",
              "      <th>6</th>\n",
              "      <td>makemake</td>\n",
              "      <td>(136472) Makémaké</td>\n",
              "      <td>136472 Makemake</td>\n",
              "      <td>True</td>\n",
              "      <td>[{'moon': 'S/2015 (136472) 1'}]</td>\n",
              "      <td>6783345606</td>\n",
              "      <td>5671928586</td>\n",
              "      <td>7894762625</td>\n",
              "      <td>0.15586</td>\n",
              "      <td>29.00685</td>\n",
              "      <td>{'massValue': 4.4, 'massExponent': 21}</td>\n",
              "      <td>{'volValue': 1.7000000000000002, 'volExponent'...</td>\n",
              "      <td>1.4000</td>\n",
              "      <td>0.500</td>\n",
              "      <td>800</td>\n",
              "      <td>725.0000</td>\n",
              "      <td>745.0000</td>\n",
              "      <td>715.0</td>\n",
              "      <td>0.05000</td>\n",
              "      <td></td>\n",
              "      <td>112897.000</td>\n",
              "      <td>0.0000</td>\n",
              "      <td>NaN</td>\n",
              "      <td>Michael E. Brown, Chadwick Trujillo, David L. ...</td>\n",
              "      <td>31/03/2005</td>\n",
              "      <td>2005 FY9</td>\n",
              "      <td>0.0000</td>\n",
              "    </tr>\n",
              "    <tr>\n",
              "      <th>7</th>\n",
              "      <td>jupiter</td>\n",
              "      <td>Jupiter</td>\n",
              "      <td>Jupiter</td>\n",
              "      <td>True</td>\n",
              "      <td>[{'moon': 'Io'}, {'moon': 'Europe'}, {'moon': ...</td>\n",
              "      <td>778340821</td>\n",
              "      <td>740379835</td>\n",
              "      <td>816620000</td>\n",
              "      <td>0.04890</td>\n",
              "      <td>1.30400</td>\n",
              "      <td>{'massValue': 1.89819, 'massExponent': 27}</td>\n",
              "      <td>{'volValue': 1.43128, 'volExponent': 15}</td>\n",
              "      <td>1.3262</td>\n",
              "      <td>24.790</td>\n",
              "      <td>60200</td>\n",
              "      <td>69911.0000</td>\n",
              "      <td>71492.0000</td>\n",
              "      <td>66854.0</td>\n",
              "      <td>0.06487</td>\n",
              "      <td></td>\n",
              "      <td>4332.589</td>\n",
              "      <td>9.9250</td>\n",
              "      <td>NaN</td>\n",
              "      <td></td>\n",
              "      <td></td>\n",
              "      <td></td>\n",
              "      <td>3.1200</td>\n",
              "    </tr>\n",
              "    <tr>\n",
              "      <th>8</th>\n",
              "      <td>mars</td>\n",
              "      <td>Mars</td>\n",
              "      <td>Mars</td>\n",
              "      <td>True</td>\n",
              "      <td>[{'moon': 'Phobos'}, {'moon': 'Deïmos'}]</td>\n",
              "      <td>227943824</td>\n",
              "      <td>206700000</td>\n",
              "      <td>249200000</td>\n",
              "      <td>0.09350</td>\n",
              "      <td>1.85000</td>\n",
              "      <td>{'massValue': 6.41712, 'massExponent': 23}</td>\n",
              "      <td>{'volValue': 1.6318000000000001, 'volExponent'...</td>\n",
              "      <td>3.9341</td>\n",
              "      <td>3.710</td>\n",
              "      <td>5030</td>\n",
              "      <td>3389.5000</td>\n",
              "      <td>3396.1900</td>\n",
              "      <td>3376.2</td>\n",
              "      <td>0.00589</td>\n",
              "      <td></td>\n",
              "      <td>686.980</td>\n",
              "      <td>24.6229</td>\n",
              "      <td>NaN</td>\n",
              "      <td></td>\n",
              "      <td></td>\n",
              "      <td></td>\n",
              "      <td>25.1900</td>\n",
              "    </tr>\n",
              "    <tr>\n",
              "      <th>9</th>\n",
              "      <td>mercure</td>\n",
              "      <td>Mercure</td>\n",
              "      <td>Mercury</td>\n",
              "      <td>True</td>\n",
              "      <td>None</td>\n",
              "      <td>57909227</td>\n",
              "      <td>46001200</td>\n",
              "      <td>69816900</td>\n",
              "      <td>0.20560</td>\n",
              "      <td>7.00000</td>\n",
              "      <td>{'massValue': 3.30114, 'massExponent': 23}</td>\n",
              "      <td>{'volValue': 6.083, 'volExponent': 10}</td>\n",
              "      <td>5.4291</td>\n",
              "      <td>3.700</td>\n",
              "      <td>4250</td>\n",
              "      <td>2439.4000</td>\n",
              "      <td>2440.5300</td>\n",
              "      <td>2439.7</td>\n",
              "      <td>0.00000</td>\n",
              "      <td></td>\n",
              "      <td>87.969</td>\n",
              "      <td>1407.6000</td>\n",
              "      <td>NaN</td>\n",
              "      <td></td>\n",
              "      <td></td>\n",
              "      <td></td>\n",
              "      <td>0.0352</td>\n",
              "    </tr>\n",
              "    <tr>\n",
              "      <th>10</th>\n",
              "      <td>saturne</td>\n",
              "      <td>Saturne</td>\n",
              "      <td>Saturn</td>\n",
              "      <td>True</td>\n",
              "      <td>[{'moon': 'Mimas'}, {'moon': 'Encelade'}, {'mo...</td>\n",
              "      <td>1426666422</td>\n",
              "      <td>1349823615</td>\n",
              "      <td>1503509229</td>\n",
              "      <td>0.05650</td>\n",
              "      <td>2.48500</td>\n",
              "      <td>{'massValue': 5.68336, 'massExponent': 26}</td>\n",
              "      <td>{'volValue': 8.2713, 'volExponent': 14}</td>\n",
              "      <td>0.6871</td>\n",
              "      <td>10.440</td>\n",
              "      <td>36090</td>\n",
              "      <td>58232.0000</td>\n",
              "      <td>60268.0000</td>\n",
              "      <td>54364.0</td>\n",
              "      <td>0.09796</td>\n",
              "      <td></td>\n",
              "      <td>10759.220</td>\n",
              "      <td>10.6560</td>\n",
              "      <td>NaN</td>\n",
              "      <td></td>\n",
              "      <td></td>\n",
              "      <td></td>\n",
              "      <td>26.7300</td>\n",
              "    </tr>\n",
              "    <tr>\n",
              "      <th>11</th>\n",
              "      <td>terre</td>\n",
              "      <td>La Terre</td>\n",
              "      <td>Earth</td>\n",
              "      <td>True</td>\n",
              "      <td>[{'moon': 'La Lune'}]</td>\n",
              "      <td>149598262</td>\n",
              "      <td>147095000</td>\n",
              "      <td>152100000</td>\n",
              "      <td>0.01670</td>\n",
              "      <td>0.00000</td>\n",
              "      <td>{'massValue': 5.97237, 'massExponent': 24}</td>\n",
              "      <td>{'volValue': 1.08321, 'volExponent': 12}</td>\n",
              "      <td>5.5136</td>\n",
              "      <td>9.800</td>\n",
              "      <td>11190</td>\n",
              "      <td>6371.0084</td>\n",
              "      <td>6378.1366</td>\n",
              "      <td>6356.8</td>\n",
              "      <td>0.00335</td>\n",
              "      <td></td>\n",
              "      <td>365.256</td>\n",
              "      <td>23.9345</td>\n",
              "      <td>NaN</td>\n",
              "      <td></td>\n",
              "      <td></td>\n",
              "      <td></td>\n",
              "      <td>23.4393</td>\n",
              "    </tr>\n",
              "    <tr>\n",
              "      <th>12</th>\n",
              "      <td>venus</td>\n",
              "      <td>Vénus</td>\n",
              "      <td>Venus</td>\n",
              "      <td>True</td>\n",
              "      <td>None</td>\n",
              "      <td>108208475</td>\n",
              "      <td>107477000</td>\n",
              "      <td>108939000</td>\n",
              "      <td>0.00670</td>\n",
              "      <td>3.39000</td>\n",
              "      <td>{'massValue': 4.86747, 'massExponent': 24}</td>\n",
              "      <td>{'volValue': 9.2843, 'volExponent': 11}</td>\n",
              "      <td>5.2430</td>\n",
              "      <td>8.870</td>\n",
              "      <td>10360</td>\n",
              "      <td>6051.8000</td>\n",
              "      <td>6051.8000</td>\n",
              "      <td>6051.8</td>\n",
              "      <td>0.00000</td>\n",
              "      <td></td>\n",
              "      <td>224.701</td>\n",
              "      <td>-5832.5000</td>\n",
              "      <td>NaN</td>\n",
              "      <td></td>\n",
              "      <td></td>\n",
              "      <td></td>\n",
              "      <td>177.3600</td>\n",
              "    </tr>\n",
              "  </tbody>\n",
              "</table>\n",
              "</div>"
            ],
            "text/plain": [
              "          id               name  ...    alternativeName  axialTilt\n",
              "0      ceres          (1) Cérès  ...  A899 OF - 1943 XB     3.0000\n",
              "1       eris      (136199) Éris  ...         2003 UB313     0.0000\n",
              "2     uranus             Uranus  ...                       97.7700\n",
              "3     pluton             Pluton  ...                      122.5000\n",
              "4    neptune            Neptune  ...                       28.3000\n",
              "5     haumea    (136108) Hauméa  ...          2003 EL61     0.0000\n",
              "6   makemake  (136472) Makémaké  ...           2005 FY9     0.0000\n",
              "7    jupiter            Jupiter  ...                        3.1200\n",
              "8       mars               Mars  ...                       25.1900\n",
              "9    mercure            Mercure  ...                        0.0352\n",
              "10   saturne            Saturne  ...                       26.7300\n",
              "11     terre           La Terre  ...                       23.4393\n",
              "12     venus              Vénus  ...                      177.3600\n",
              "\n",
              "[13 rows x 27 columns]"
            ]
          },
          "metadata": {
            "tags": []
          },
          "execution_count": 3
        }
      ]
    },
    {
      "cell_type": "code",
      "metadata": {
        "id": "ENS7wbb7sn01"
      },
      "source": [
        "df2=df[df['id']!='ceres']\n",
        "#df2[['id','englishName','density']]"
      ],
      "execution_count": null,
      "outputs": []
    },
    {
      "cell_type": "markdown",
      "metadata": {
        "id": "Tu7Z8DTsdPLS"
      },
      "source": [
        "###The following are supported input data points and explanation"
      ]
    },
    {
      "cell_type": "markdown",
      "metadata": {
        "id": "1wapKwy5yMen"
      },
      "source": [
        "\n",
        "|Field                | Explanation                |\n",
        "|---------------------|:---------------------------|\n",
        "|id                   |not valid, cannot know ID from API ahead of time|\n",
        "|name                 | not valid, the French name of a planet being similar does not give an indication of other similar attributes|\n",
        "|englishName          |not valid, the English name of a planet being similar does not give an indication of other similar attributes|\n",
        "|isPlanet             |not valid, these will all be planets as input|\n",
        "|moons                |not valid, the moons of a planet do not give an indication of other similar attributes|\n",
        "|semimajorAxis        |valid, feature of planet|\n",
        "|perihelion           |valid, describes the planets distance to the sun at closest point, which is distinct feature|\n",
        "|aphelion             |valid, describes the planets distance to the sun at furthest point, which is distinct feature|\n",
        "|eccentricity         |valid, distinct shape characteristic|\n",
        "|inclination          |valid, planet's tilt relationship relative to earth|\n",
        "|mass.massValue       |not valid, is a function of other features|\n",
        "|mass.massExponent    |not valid, is a function of other features|\n",
        "|vol.volValue         |not valid, is a function of other features|\n",
        "|vol.volExponent      |not valid, is a function of other features|\n",
        "|density              |valid, distinct feature of planet|\n",
        "|escape               |valid, escape velocity is distinct feature of planet|\n",
        "|meanRadius           |valid, distinct feature of planet|\n",
        "|equaRadius           |valid, distinct feature of planet|\n",
        "|polarRadius          |valid, distinct feature of planet|\n",
        "|flattening           |valid, distinct feature of planet|\n",
        "|dimension            |not valid since it's a string with 3 values delimited by x where order cannot be guaranteed so unable to compare|\n",
        "|sideralOrbit         |valid, distinct feature of planet|\n",
        "|sideralRotation      |valid, distinct feature of planet|\n",
        "|aroundPlanet         |not valid, all values are null|\n",
        "|discoveredBy         |not valid, knowing the discoverer will not help determine the other similar attributes|\n",
        "|discoveryDate        |not valid, knowing the discover date will not help determine the other similar attributes|\n",
        "|alternativeNamee     |not valid, knowing the alternative name will not help determining the other similar attributes|\n",
        "|axialTilt            |valid, distinct feature of planet|\n"
      ]
    },
    {
      "cell_type": "code",
      "metadata": {
        "id": "8Dqy7rkCOrLe"
      },
      "source": [
        "# creating an array of fields that are suitable for input per the table above\n",
        "suitable_fields = ['semimajorAxis', 'perihelion', 'aphelion', 'eccentricity', 'inclination', 'density', 'gravity', \n",
        "                   'escape', 'meanRadius', 'equaRadius', 'polarRadius', 'flattening', 'sideralOrbit', 'sideralRotation', 'axialTilt']"
      ],
      "execution_count": null,
      "outputs": []
    },
    {
      "cell_type": "markdown",
      "metadata": {
        "id": "Lox47NKOcGK2"
      },
      "source": [
        "###Please use the following cell to populate the dictionary with the inputs that you plan to define.  \n",
        "####PLEASE UNCOMMENT FIELDS YOU PLAN TO USE AND PROVIDE VALUES"
      ]
    },
    {
      "cell_type": "code",
      "metadata": {
        "id": "NeJL7HUVKhBl"
      },
      "source": [
        " # create a dictionary for the inputs based on what the players define.  PLEASE UNCOMMENT FIELDS YOU PLAN TO USE AND PROVIDE VALUES\n",
        "input_dict = {#'semimajorAxis': 0, \n",
        "              'perihelion': 2700000000, \n",
        "              #'aphelion': 0,\n",
        "              'eccentricity': 0.19126, \n",
        "              #'inclination': 0, \n",
        "              'density': 1.3, \n",
        "              #'gravity': 0,\n",
        "              #'escape': 0, \n",
        "              #'meanRadius': 0,\n",
        "              #'equaRadius': 0, \n",
        "              'polarRadius': 230, \n",
        "              #'flattening': 0, \n",
        "              #'sideralOrbit': 0, \n",
        "              #'sideralRotation': 0, \n",
        "              #'axialTilt': 0 \n",
        "}"
      ],
      "execution_count": null,
      "outputs": []
    },
    {
      "cell_type": "markdown",
      "metadata": {
        "id": "Bt9o9Fk5cNHI"
      },
      "source": [
        "###Version 1: Deterministic Matching\n",
        "####This will look for exact matches between your input per input_dict and planet values from the Solar System REST API.  Whichever planet has the most exact matches will be provided as output"
      ]
    },
    {
      "cell_type": "markdown",
      "metadata": {
        "id": "p9bRH7Hrcovf"
      },
      "source": [
        "Run this cell to establish the function\n"
      ]
    },
    {
      "cell_type": "code",
      "metadata": {
        "id": "044xma8bKL2V"
      },
      "source": [
        "# create function that will take a dictionary as input parameter and output the planet from the database that most closely matches the inputs provided based on exact matches\n",
        "def get_closest_planet_deterministic(input_dict, suitable_fields):  \n",
        "  \n",
        "  # create dictionary for count of deterministic matches by planet index\n",
        "  matched_count = {0: 0,\n",
        "                   1: 0,\n",
        "                   2: 0,\n",
        "                   3: 0,\n",
        "                   4: 0,\n",
        "                   5: 0,\n",
        "                   6: 0,\n",
        "                   7: 0,\n",
        "                   8: 0,\n",
        "                   9: 0,\n",
        "                   10: 0,\n",
        "                   11: 0,\n",
        "                   12: 0\n",
        "                   }\n",
        "  \n",
        "  # create array to populate index of keys for matched values per data point\n",
        "  match_ids_arr = []\n",
        "  \n",
        "  # create variable for the winning index, which will be used to output results\n",
        "  matched_winner_index = 0\n",
        "\n",
        "  # need to loop through all dictionary values to evaluate matching fields in DB\n",
        "  for key in input_dict: \n",
        "    \n",
        "    # if statement to evaluate if the key provided on input is part of suitable fields the game evaluates on\n",
        "    if(key not in suitable_fields):\n",
        "      print(\"The following input field is not supported in this game: \" + key)\n",
        "    \n",
        "    else:\n",
        "      print(\"input key:\", key, \"input value:\", input_dict[key], \"match id:\", df[df[key]==input_dict[key]].index.values)  \n",
        "\n",
        "      # add index to array when the input value matches a value from the DB\n",
        "      match_ids_arr = df[df[key]==input_dict[key]].index.values\n",
        "      \n",
        "      # loop through the array of matches\n",
        "      for index in match_ids_arr:\n",
        "        # increment the index that matched in matched_count dictionary\n",
        "        matched_count[index] += 1\n",
        "        \n",
        "      # reset match_ids_arr until next key is evaluated\n",
        "      match_ids_arr = []\n",
        "      \n",
        "  # choose maximum match count as the winner\n",
        "  maximum = max(matched_count, key=matched_count.get)\n",
        "  matched_winner_index = maximum\n",
        "  print(\"Thanks for playing!  Here's the planet closest to your defined inputs:\") # print result message\n",
        "  print(df.iloc[[matched_winner_index]]) # print result message"
      ],
      "execution_count": null,
      "outputs": []
    },
    {
      "cell_type": "markdown",
      "metadata": {
        "id": "2yZFWpIrctSA"
      },
      "source": [
        "Run this cell to evaluate the function and receive output\n"
      ]
    },
    {
      "cell_type": "code",
      "metadata": {
        "colab": {
          "base_uri": "https://localhost:8080/"
        },
        "id": "FWZnbQbHKhD5",
        "outputId": "21962d16-b72a-4b9c-dbfc-feee6a040e12"
      },
      "source": [
        "get_closest_planet_deterministic(input_dict, suitable_fields)"
      ],
      "execution_count": null,
      "outputs": [
        {
          "output_type": "stream",
          "text": [
            "input key: perihelion input value: 2700000000 match id: []\n",
            "input key: eccentricity input value: 0.19126 match id: [5]\n",
            "input key: density input value: 1.3 match id: []\n",
            "input key: polarRadius input value: 230 match id: []\n",
            "Thanks for playing!  Here's the planet closest to your defined inputs:\n",
            "       id             name  ... alternativeName  axialTilt\n",
            "5  haumea  (136108) Hauméa  ...       2003 EL61        0.0\n",
            "\n",
            "[1 rows x 27 columns]\n"
          ],
          "name": "stdout"
        }
      ]
    },
    {
      "cell_type": "markdown",
      "metadata": {
        "id": "a_CidH9Vcxbm"
      },
      "source": [
        "###Version 2: Probabilistic Matching\n",
        "####This will look for the difference in values between your input per input_dict and planet values from the Solar System REST API.  Whichever planet has the lowest absolute value summation will be provided as output."
      ]
    },
    {
      "cell_type": "markdown",
      "metadata": {
        "id": "4uDtpYhodppJ"
      },
      "source": [
        "Run this cell to establish the function"
      ]
    },
    {
      "cell_type": "code",
      "metadata": {
        "id": "NYgvC7xwAyoN"
      },
      "source": [
        "# create function that will take a dictionary as input parameter and output the planet from the database that most closely matches the inputs provided based on approximate matches\n",
        "def get_closest_planet_probabilistic(input_dict, suitable_fields):  \n",
        "  \n",
        "  # create dataframe for an absoluate value count of difference between provided values and planets' values\n",
        "  df_evalmatrix = pd.DataFrame(np.zeros((15, 13)),index=suitable_fields, columns=[df['id'].to_numpy()])\n",
        "  \n",
        "  # create variable for the winning index, which will be used to output results\n",
        "  matched_winner_index = 0\n",
        "\n",
        "  # need to loop through all dictionary values to evaluate matching fields in DB\n",
        "  for key in input_dict: \n",
        "    \n",
        "    # if statement to evaluate if the key provided on input is part of suitable fields the game evaluates on\n",
        "    if(key not in suitable_fields):\n",
        "      print(\"The following input field is not supported in this game: \" + key)\n",
        "    \n",
        "    else:\n",
        "      print(\"input key:\", key, \"input value:\", input_dict[key])  \n",
        "\n",
        "      # loop through input_dict to calculate differences in values for each planet for each data point\n",
        "      for count in range(len(df)):\n",
        "        # subtract the value of the planet attribute from the value of the input attribute and take absolute value, increment this result to the appropriate cell in the weighting matrix\n",
        "        df_evalmatrix.loc[key][count] += abs(df[key].values[count] - input_dict[key])\n",
        "\n",
        "  # sum each column of the dataframe\n",
        "  planet_sum = df_evalmatrix.sum(axis = 0, skipna = True) \n",
        "\n",
        "  # find the minimum sum of columns and choose that index as matched_winner\n",
        "  matched_winner_index = df[df[\"id\"]==planet_sum.idxmin()[0]].index[0]\n",
        "\n",
        "  # print the matrix of weights\n",
        "  print(df_evalmatrix)\n",
        "\n",
        "  print(\"Thanks for playing!  The minimum match value was \" , round(df_evalmatrix.sum(axis=0, skipna=True).min()), \" and the maximum match value was \", round(df_evalmatrix.sum(axis=0, skipna=True).max()))\n",
        "  print(\"Here's the planet closest to your defined inputs using probabilistic matching:\") # print result message\n",
        "  print(df.iloc[[matched_winner_index]]) # print result message"
      ],
      "execution_count": null,
      "outputs": []
    },
    {
      "cell_type": "markdown",
      "metadata": {
        "id": "EsYBQGsLdPLs"
      },
      "source": [
        "Run this cell to evaluate the function and receive output"
      ]
    },
    {
      "cell_type": "code",
      "metadata": {
        "colab": {
          "base_uri": "https://localhost:8080/"
        },
        "id": "S1M4WK6upp7x",
        "outputId": "404b33a2-b496-4076-abf6-f1fd732a7571"
      },
      "source": [
        "get_closest_planet_probabilistic(input_dict, suitable_fields)"
      ],
      "execution_count": null,
      "outputs": [
        {
          "output_type": "stream",
          "text": [
            "input key: perihelion input value: 2700000000\n",
            "input key: eccentricity input value: 0.19126\n",
            "input key: density input value: 1.3\n",
            "input key: polarRadius input value: 230\n",
            "                        ceres          eris  ...         terre         venus\n",
            "semimajorAxis    0.000000e+00  0.000000e+00  ...  0.000000e+00  0.000000e+00\n",
            "perihelion       2.317380e+09  3.065733e+09  ...  2.552905e+09  2.592523e+09\n",
            "aphelion         0.000000e+00  0.000000e+00  ...  0.000000e+00  0.000000e+00\n",
            "eccentricity     1.154400e-01  2.494200e-01  ...  1.745600e-01  1.845600e-01\n",
            "inclination      0.000000e+00  0.000000e+00  ...  0.000000e+00  0.000000e+00\n",
            "density          8.610000e-01  1.220000e+00  ...  4.213600e+00  3.943000e+00\n",
            "gravity          0.000000e+00  0.000000e+00  ...  0.000000e+00  0.000000e+00\n",
            "escape           0.000000e+00  0.000000e+00  ...  0.000000e+00  0.000000e+00\n",
            "meanRadius       0.000000e+00  0.000000e+00  ...  0.000000e+00  0.000000e+00\n",
            "equaRadius       0.000000e+00  0.000000e+00  ...  0.000000e+00  0.000000e+00\n",
            "polarRadius      2.250000e+02  2.300000e+02  ...  6.126800e+03  5.821800e+03\n",
            "flattening       0.000000e+00  0.000000e+00  ...  0.000000e+00  0.000000e+00\n",
            "sideralOrbit     0.000000e+00  0.000000e+00  ...  0.000000e+00  0.000000e+00\n",
            "sideralRotation  0.000000e+00  0.000000e+00  ...  0.000000e+00  0.000000e+00\n",
            "axialTilt        0.000000e+00  0.000000e+00  ...  0.000000e+00  0.000000e+00\n",
            "\n",
            "[15 rows x 13 columns]\n",
            "Thanks for playing!  The minimum match value was  35022972  and the maximum match value was  3065733030\n",
            "Here's the planet closest to your defined inputs using probabilistic matching:\n",
            "       id    name englishName  ...  discoveryDate alternativeName  axialTilt\n",
            "2  uranus  Uranus      Uranus  ...     13/03/1781                      97.77\n",
            "\n",
            "[1 rows x 27 columns]\n"
          ],
          "name": "stdout"
        }
      ]
    }
  ]
}